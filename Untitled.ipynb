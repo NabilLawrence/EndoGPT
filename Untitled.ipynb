{
 "cells": [
  {
   "cell_type": "code",
   "execution_count": 3,
   "id": "0d16a361",
   "metadata": {
    "ExecuteTime": {
     "end_time": "2023-03-15T11:28:22.561176Z",
     "start_time": "2023-03-15T11:28:22.549752Z"
    }
   },
   "outputs": [
    {
     "data": {
      "text/plain": [
       "'The patient has a stricture in the duodenal bulb which is stiffTight distal stricture which would not allow passage of scope.. The narrowing of the duodenal lumen at the stricture site is severe, allowing only a small-caliber endoscope to pass through.During biopsy, it was noted that the lesion had a friable surface and bled easily..'"
      ]
     },
     "execution_count": 3,
     "metadata": {},
     "output_type": "execute_result"
    }
   ],
   "source": [
    "import re\n",
    "text = 'INDICATIONS: Extent of Exam FINDINGS: The patient has a stricture in the duodenal bulb which is stiffTight distal stricture which would not allow passage of scope.. The narrowing of the duodenal lumen at the stricture site is severe, allowing only a small-caliber endoscope to pass through.During biopsy, it was noted that the lesion had a friable surface and bled easily..'\n",
    "hospital_reg = r\"\\.*FINDINGS:.*\"\n",
    "line = re.findall(hospital_reg, text)[0][10:]\n",
    "line\n"
   ]
  },
  {
   "cell_type": "code",
   "execution_count": null,
   "id": "5a25673e",
   "metadata": {},
   "outputs": [],
   "source": []
  }
 ],
 "metadata": {
  "kernelspec": {
   "display_name": "Python 3 (ipykernel)",
   "language": "python",
   "name": "python3"
  },
  "language_info": {
   "codemirror_mode": {
    "name": "ipython",
    "version": 3
   },
   "file_extension": ".py",
   "mimetype": "text/x-python",
   "name": "python",
   "nbconvert_exporter": "python",
   "pygments_lexer": "ipython3",
   "version": "3.10.6"
  },
  "toc": {
   "base_numbering": 1,
   "nav_menu": {},
   "number_sections": true,
   "sideBar": true,
   "skip_h1_title": false,
   "title_cell": "Table of Contents",
   "title_sidebar": "Contents",
   "toc_cell": false,
   "toc_position": {},
   "toc_section_display": true,
   "toc_window_display": false
  },
  "varInspector": {
   "cols": {
    "lenName": 16,
    "lenType": 16,
    "lenVar": 40
   },
   "kernels_config": {
    "python": {
     "delete_cmd_postfix": "",
     "delete_cmd_prefix": "del ",
     "library": "var_list.py",
     "varRefreshCmd": "print(var_dic_list())"
    },
    "r": {
     "delete_cmd_postfix": ") ",
     "delete_cmd_prefix": "rm(",
     "library": "var_list.r",
     "varRefreshCmd": "cat(var_dic_list()) "
    }
   },
   "types_to_exclude": [
    "module",
    "function",
    "builtin_function_or_method",
    "instance",
    "_Feature"
   ],
   "window_display": false
  }
 },
 "nbformat": 4,
 "nbformat_minor": 5
}
