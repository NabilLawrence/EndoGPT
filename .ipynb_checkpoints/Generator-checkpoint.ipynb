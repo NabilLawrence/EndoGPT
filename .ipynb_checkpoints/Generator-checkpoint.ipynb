{
 "cells": [
  {
   "cell_type": "code",
   "execution_count": null,
   "id": "280e4167",
   "metadata": {},
   "outputs": [],
   "source": [
    "from endogpt.Preprocessing import preprocess_real\n",
    "from endogpt.Classifier import single_text"
   ]
  },
  {
   "cell_type": "code",
   "execution_count": null,
   "id": "08e23c4a",
   "metadata": {},
   "outputs": [],
   "source": []
  }
 ],
 "metadata": {
  "kernelspec": {
   "display_name": "Python 3 (ipykernel)",
   "language": "python",
   "name": "python3"
  },
  "toc": {
   "base_numbering": 1,
   "nav_menu": {},
   "number_sections": true,
   "sideBar": true,
   "skip_h1_title": false,
   "title_cell": "Table of Contents",
   "title_sidebar": "Contents",
   "toc_cell": false,
   "toc_position": {},
   "toc_section_display": true,
   "toc_window_display": false
  }
 },
 "nbformat": 4,
 "nbformat_minor": 5
}
