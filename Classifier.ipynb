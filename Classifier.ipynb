{
 "cells": [
  {
   "cell_type": "markdown",
   "id": "92927dfa",
   "metadata": {
    "ExecuteTime": {
     "end_time": "2023-03-14T12:09:46.781389Z",
     "start_time": "2023-03-14T12:09:46.771534Z"
    }
   },
   "source": [
    "---\n",
    "## Classifier  \n",
    "---\n",
    "### Content\n",
    "---\n",
    "\n",
    "- **[Libraries to use](#Libraries_to_use)**\n",
    "\n",
    "- **[Loading the dataset](#Loading_dataset)**\n",
    "\n",
    "- **[Cleaning the dataset and extracting required features](#Cleaning_extracting)**\n",
    "\n",
    "- **[Including reversed findings to the dataset](#Reversed_findings)**\n",
    "\n",
    "- **[Creating a dictionary with train, test, validation datasets](#train_test_validation)**\n",
    "\n",
    "- **[Load tokenizer and model](#tokenizer_model)**\n",
    "\n",
    "- **[Tokenize the datasets](#tokenize)**\n",
    "\n",
    "- **[Formating to torch](#Formating)**\n",
    "\n",
    "- **[Extracting hidden states](#Extracting_hidden_states)**\n",
    "\n",
    "- **[Creating a feature matrix](#feature_matrix)**\n",
    "\n",
    "- **[Visualizing the training set](#Visualizing_training)**\n",
    "\n",
    "- **[Training a classifier](#Training_classifier)**\n",
    "\n",
    " ---"
   ]
  },
  {
   "cell_type": "markdown",
   "id": "de64b832",
   "metadata": {},
   "source": [
    "---\n",
    "### Libraries to use <a id=\"Libraries_to_use\"> </a>\n",
    "---"
   ]
  },
  {
   "cell_type": "code",
   "execution_count": 2,
   "id": "3707c913",
   "metadata": {
    "ExecuteTime": {
     "end_time": "2023-03-14T23:16:49.609362Z",
     "start_time": "2023-03-14T23:16:49.599768Z"
    }
   },
   "outputs": [],
   "source": [
    "#----------------------------------------------------------\n",
    "# Regular modules\n",
    "\n",
    "#----------------------------------------------------------\n",
    "import numpy as np\n",
    "\n",
    "import re\n",
    "from sklearn.preprocessing import MinMaxScaler\n",
    "from sklearn.model_selection import train_test_split\n",
    "#----------------------------------------------------------\n",
    "# Visualization\n",
    "#----------------------------------------------------------\n",
    "import matplotlib.pyplot as plt\n",
    "import pandas as pd\n",
    "import seaborn as sns\n",
    "#----------------------------------------------------------\n",
    "# Classifiers\n",
    "#----------------------------------------------------------\n",
    "from sklearn.dummy import DummyClassifier\n",
    "from sklearn.linear_model import LogisticRegression\n",
    "#----------------------------------------------------------\n",
    "# For metrics\n",
    "#----------------------------------------------------------\n",
    "from sklearn.metrics import confusion_matrix\n",
    "from sklearn.metrics import ConfusionMatrixDisplay\n",
    "from sklearn.metrics import accuracy_score\n",
    "from sklearn.metrics import precision_score\n",
    "from sklearn.metrics import recall_score\n",
    "from sklearn.metrics import f1_score\n",
    "#----------------------------------------------------------\n",
    "# To avoid warnings\n",
    "#----------------------------------------------------------\n",
    "import os\n",
    "import warnings \n",
    "warnings.filterwarnings('ignore')\n",
    "os.environ['TF_CPP_MIN_LOG_LEVEL'] = '3'\n",
    "#----------------------------------------------------------\n",
    "# Not regular modules\n",
    "#----------------------------------------------------------\n",
    "import datasets # to create a dictionary of datasets.\n",
    "import torch #The torch module provides support for multi-dimensional arrays called tensors.\n",
    "from umap import UMAP #Uniform Manifold Approximation and Projection\n",
    "# is a machine learning technique for dimensionality reduction, which is commonly\n",
    "# used for visualizing high-dimensional data in two or three dimensions.\n",
    "import pickle\n",
    "#----------------------------------------------------------\n",
    "# Transformers\n",
    "#----------------------------------------------------------\n",
    "from transformers import AutoTokenizer # to tokenize dataset of text.\n",
    "from transformers import AutoModel # to export last hidden layer from the outputs of the model.\n",
    "from transformers import AutoModelForSequenceClassification # to export logists from the outputs of the model.\n",
    "#----------------------------------------------------------"
   ]
  },
  {
   "cell_type": "code",
   "execution_count": 3,
   "id": "fe88ed5a",
   "metadata": {
    "ExecuteTime": {
     "end_time": "2023-03-14T23:16:49.854488Z",
     "start_time": "2023-03-14T23:16:49.848839Z"
    }
   },
   "outputs": [],
   "source": [
    "from endogpt.Preprocessor import preprocess_real\n",
    "from endogpt.Preprocessor import preprocess_synthetic\n",
    "from endogpt.Classifier import train_test_validation  "
   ]
  },
  {
   "cell_type": "markdown",
   "id": "dcf9caf6",
   "metadata": {},
   "source": [
    "<a id=\"Loading_dataset\"> </a>\n",
    "\n",
    "---\n",
    "### Loading the dataset \n",
    "---"
   ]
  },
  {
   "cell_type": "code",
   "execution_count": 4,
   "id": "7c745369",
   "metadata": {
    "ExecuteTime": {
     "end_time": "2023-03-14T23:16:55.569612Z",
     "start_time": "2023-03-14T23:16:50.178688Z"
    },
    "scrolled": true
   },
   "outputs": [
    {
     "data": {
      "text/html": [
       "<div>\n",
       "<style scoped>\n",
       "    .dataframe tbody tr th:only-of-type {\n",
       "        vertical-align: middle;\n",
       "    }\n",
       "\n",
       "    .dataframe tbody tr th {\n",
       "        vertical-align: top;\n",
       "    }\n",
       "\n",
       "    .dataframe thead th {\n",
       "        text-align: right;\n",
       "    }\n",
       "</style>\n",
       "<table border=\"1\" class=\"dataframe\">\n",
       "  <thead>\n",
       "    <tr style=\"text-align: right;\">\n",
       "      <th></th>\n",
       "      <th>findings</th>\n",
       "      <th>label</th>\n",
       "    </tr>\n",
       "  </thead>\n",
       "  <tbody>\n",
       "    <tr>\n",
       "      <th>0</th>\n",
       "      <td>Columnar lined oesophagus is present. The segm...</td>\n",
       "      <td>0</td>\n",
       "    </tr>\n",
       "    <tr>\n",
       "      <th>1</th>\n",
       "      <td>There is an ulcer in the stomach which is supe...</td>\n",
       "      <td>0</td>\n",
       "    </tr>\n",
       "    <tr>\n",
       "      <th>2</th>\n",
       "      <td>LA Grade  D oesophagitis. The oesopahgitis is ...</td>\n",
       "      <td>0</td>\n",
       "    </tr>\n",
       "    <tr>\n",
       "      <th>3</th>\n",
       "      <td>There is a polyp in the body which is sessile ...</td>\n",
       "      <td>0</td>\n",
       "    </tr>\n",
       "    <tr>\n",
       "      <th>4</th>\n",
       "      <td>There is a stricture in the fundus which is Oe...</td>\n",
       "      <td>0</td>\n",
       "    </tr>\n",
       "    <tr>\n",
       "      <th>...</th>\n",
       "      <td>...</td>\n",
       "      <td>...</td>\n",
       "    </tr>\n",
       "    <tr>\n",
       "      <th>95</th>\n",
       "      <td>Large sliding hiatus hernia. NA</td>\n",
       "      <td>0</td>\n",
       "    </tr>\n",
       "    <tr>\n",
       "      <th>96</th>\n",
       "      <td>The patient has a polyp in the antrum which is...</td>\n",
       "      <td>0</td>\n",
       "    </tr>\n",
       "    <tr>\n",
       "      <th>97</th>\n",
       "      <td>Normal gastroscopy to the duodenum.</td>\n",
       "      <td>0</td>\n",
       "    </tr>\n",
       "    <tr>\n",
       "      <th>98</th>\n",
       "      <td>list(\"The stricture will need to be dilatated ...</td>\n",
       "      <td>0</td>\n",
       "    </tr>\n",
       "    <tr>\n",
       "      <th>99</th>\n",
       "      <td>There is a polyp in the antrum which is stalke...</td>\n",
       "      <td>0</td>\n",
       "    </tr>\n",
       "  </tbody>\n",
       "</table>\n",
       "<p>100 rows × 2 columns</p>\n",
       "</div>"
      ],
      "text/plain": [
       "                                             findings  label\n",
       "0   Columnar lined oesophagus is present. The segm...      0\n",
       "1   There is an ulcer in the stomach which is supe...      0\n",
       "2   LA Grade  D oesophagitis. The oesopahgitis is ...      0\n",
       "3   There is a polyp in the body which is sessile ...      0\n",
       "4   There is a stricture in the fundus which is Oe...      0\n",
       "..                                                ...    ...\n",
       "95                    Large sliding hiatus hernia. NA      0\n",
       "96  The patient has a polyp in the antrum which is...      0\n",
       "97               Normal gastroscopy to the duodenum.       0\n",
       "98  list(\"The stricture will need to be dilatated ...      0\n",
       "99  There is a polyp in the antrum which is stalke...      0\n",
       "\n",
       "[100 rows x 2 columns]"
      ]
     },
     "execution_count": 4,
     "metadata": {},
     "output_type": "execute_result"
    }
   ],
   "source": [
    "string = pd.read_csv('data/real.csv')\n",
    "real = preprocess_real(string)\n",
    "real=real.iloc[:100]\n",
    "real = real[['findings']]\n",
    "real['label'] = 0\n",
    "real"
   ]
  },
  {
   "cell_type": "code",
   "execution_count": 5,
   "id": "4360aef2",
   "metadata": {
    "ExecuteTime": {
     "end_time": "2023-03-14T23:16:55.778703Z",
     "start_time": "2023-03-14T23:16:55.773590Z"
    }
   },
   "outputs": [
    {
     "data": {
      "text/plain": [
       "'There is a polyp in the body which is sessile with an abnormal pit pattern. A gastric polyp is seen in the pylorus, with a tubular and elongated shape and a smooth surface.The polyp was removed with minimal thermal injury to surrounding tissue using a cold snare technique..  FOLLOW UP: The patient should be advised to seek medical attention immediately if they experience severe abdominal pain, vomiting, or bloody stools. RECOMMENDATION: The patient should be advised to avoid NSAIDs and aspirin, which can increase the risk of developing more polyps.'"
      ]
     },
     "execution_count": 5,
     "metadata": {},
     "output_type": "execute_result"
    }
   ],
   "source": [
    "real['findings'].iloc[3]"
   ]
  },
  {
   "cell_type": "code",
   "execution_count": 6,
   "id": "606bb073",
   "metadata": {
    "ExecuteTime": {
     "end_time": "2023-03-14T23:16:55.962363Z",
     "start_time": "2023-03-14T23:16:55.929831Z"
    }
   },
   "outputs": [
    {
     "data": {
      "text/html": [
       "<div>\n",
       "<style scoped>\n",
       "    .dataframe tbody tr th:only-of-type {\n",
       "        vertical-align: middle;\n",
       "    }\n",
       "\n",
       "    .dataframe tbody tr th {\n",
       "        vertical-align: top;\n",
       "    }\n",
       "\n",
       "    .dataframe thead th {\n",
       "        text-align: right;\n",
       "    }\n",
       "</style>\n",
       "<table border=\"1\" class=\"dataframe\">\n",
       "  <thead>\n",
       "    <tr style=\"text-align: right;\">\n",
       "      <th></th>\n",
       "      <th>findings</th>\n",
       "      <th>label</th>\n",
       "    </tr>\n",
       "  </thead>\n",
       "  <tbody>\n",
       "    <tr>\n",
       "      <th>0</th>\n",
       "      <td>Detection of adhesions was lower in Group I th...</td>\n",
       "      <td>1</td>\n",
       "    </tr>\n",
       "    <tr>\n",
       "      <th>1</th>\n",
       "      <td>the identity is changed. Part 2. Data from scr...</td>\n",
       "      <td>1</td>\n",
       "    </tr>\n",
       "    <tr>\n",
       "      <th>2</th>\n",
       "      <td>Identification of varices and capsule endoscop...</td>\n",
       "      <td>1</td>\n",
       "    </tr>\n",
       "    <tr>\n",
       "      <th>3</th>\n",
       "      <td>gastric antrum; cardiac and supra-cardiac fold...</td>\n",
       "      <td>1</td>\n",
       "    </tr>\n",
       "    <tr>\n",
       "      <th>4</th>\n",
       "      <td>I significant impact on the treatment sequence...</td>\n",
       "      <td>1</td>\n",
       "    </tr>\n",
       "    <tr>\n",
       "      <th>...</th>\n",
       "      <td>...</td>\n",
       "      <td>...</td>\n",
       "    </tr>\n",
       "    <tr>\n",
       "      <th>95</th>\n",
       "      <td>adenocarcinoma was incidentally discovered by ...</td>\n",
       "      <td>1</td>\n",
       "    </tr>\n",
       "    <tr>\n",
       "      <th>96</th>\n",
       "      <td>50-100 lesions were detected in 33 patients (t...</td>\n",
       "      <td>1</td>\n",
       "    </tr>\n",
       "    <tr>\n",
       "      <th>97</th>\n",
       "      <td>Of 923 identified subjects in the gastro-oesop...</td>\n",
       "      <td>1</td>\n",
       "    </tr>\n",
       "    <tr>\n",
       "      <th>98</th>\n",
       "      <td>Wound response of infected burn scar with occl...</td>\n",
       "      <td>1</td>\n",
       "    </tr>\n",
       "    <tr>\n",
       "      <th>99</th>\n",
       "      <td>Head biopsy revealed acute fibrinous tracheiti...</td>\n",
       "      <td>1</td>\n",
       "    </tr>\n",
       "  </tbody>\n",
       "</table>\n",
       "<p>100 rows × 2 columns</p>\n",
       "</div>"
      ],
      "text/plain": [
       "                                             findings  label\n",
       "0   Detection of adhesions was lower in Group I th...      1\n",
       "1   the identity is changed. Part 2. Data from scr...      1\n",
       "2   Identification of varices and capsule endoscop...      1\n",
       "3   gastric antrum; cardiac and supra-cardiac fold...      1\n",
       "4   I significant impact on the treatment sequence...      1\n",
       "..                                                ...    ...\n",
       "95  adenocarcinoma was incidentally discovered by ...      1\n",
       "96  50-100 lesions were detected in 33 patients (t...      1\n",
       "97  Of 923 identified subjects in the gastro-oesop...      1\n",
       "98  Wound response of infected burn scar with occl...      1\n",
       "99  Head biopsy revealed acute fibrinous tracheiti...      1\n",
       "\n",
       "[100 rows x 2 columns]"
      ]
     },
     "execution_count": 6,
     "metadata": {},
     "output_type": "execute_result"
    }
   ],
   "source": [
    "string = pd.read_csv('data/synthetic.csv')\n",
    "synthetic = preprocess_synthetic(string)\n",
    "synthetic = synthetic.iloc[:100]\n",
    "synthetic"
   ]
  },
  {
   "cell_type": "code",
   "execution_count": 7,
   "id": "9d832084",
   "metadata": {
    "ExecuteTime": {
     "end_time": "2023-03-14T23:16:56.120206Z",
     "start_time": "2023-03-14T23:16:56.109767Z"
    }
   },
   "outputs": [
    {
     "data": {
      "text/html": [
       "<div>\n",
       "<style scoped>\n",
       "    .dataframe tbody tr th:only-of-type {\n",
       "        vertical-align: middle;\n",
       "    }\n",
       "\n",
       "    .dataframe tbody tr th {\n",
       "        vertical-align: top;\n",
       "    }\n",
       "\n",
       "    .dataframe thead th {\n",
       "        text-align: right;\n",
       "    }\n",
       "</style>\n",
       "<table border=\"1\" class=\"dataframe\">\n",
       "  <thead>\n",
       "    <tr style=\"text-align: right;\">\n",
       "      <th></th>\n",
       "      <th>findings</th>\n",
       "      <th>label</th>\n",
       "    </tr>\n",
       "  </thead>\n",
       "  <tbody>\n",
       "    <tr>\n",
       "      <th>0</th>\n",
       "      <td>Detection of adhesions was lower in Group I th...</td>\n",
       "      <td>1</td>\n",
       "    </tr>\n",
       "    <tr>\n",
       "      <th>1</th>\n",
       "      <td>the identity is changed. Part 2. Data from scr...</td>\n",
       "      <td>1</td>\n",
       "    </tr>\n",
       "    <tr>\n",
       "      <th>2</th>\n",
       "      <td>Identification of varices and capsule endoscop...</td>\n",
       "      <td>1</td>\n",
       "    </tr>\n",
       "    <tr>\n",
       "      <th>3</th>\n",
       "      <td>gastric antrum; cardiac and supra-cardiac fold...</td>\n",
       "      <td>1</td>\n",
       "    </tr>\n",
       "    <tr>\n",
       "      <th>4</th>\n",
       "      <td>I significant impact on the treatment sequence...</td>\n",
       "      <td>1</td>\n",
       "    </tr>\n",
       "    <tr>\n",
       "      <th>...</th>\n",
       "      <td>...</td>\n",
       "      <td>...</td>\n",
       "    </tr>\n",
       "    <tr>\n",
       "      <th>195</th>\n",
       "      <td>Large sliding hiatus hernia. NA</td>\n",
       "      <td>0</td>\n",
       "    </tr>\n",
       "    <tr>\n",
       "      <th>196</th>\n",
       "      <td>The patient has a polyp in the antrum which is...</td>\n",
       "      <td>0</td>\n",
       "    </tr>\n",
       "    <tr>\n",
       "      <th>197</th>\n",
       "      <td>Normal gastroscopy to the duodenum.</td>\n",
       "      <td>0</td>\n",
       "    </tr>\n",
       "    <tr>\n",
       "      <th>198</th>\n",
       "      <td>list(\"The stricture will need to be dilatated ...</td>\n",
       "      <td>0</td>\n",
       "    </tr>\n",
       "    <tr>\n",
       "      <th>199</th>\n",
       "      <td>There is a polyp in the antrum which is stalke...</td>\n",
       "      <td>0</td>\n",
       "    </tr>\n",
       "  </tbody>\n",
       "</table>\n",
       "<p>200 rows × 2 columns</p>\n",
       "</div>"
      ],
      "text/plain": [
       "                                              findings  label\n",
       "0    Detection of adhesions was lower in Group I th...      1\n",
       "1    the identity is changed. Part 2. Data from scr...      1\n",
       "2    Identification of varices and capsule endoscop...      1\n",
       "3    gastric antrum; cardiac and supra-cardiac fold...      1\n",
       "4    I significant impact on the treatment sequence...      1\n",
       "..                                                 ...    ...\n",
       "195                    Large sliding hiatus hernia. NA      0\n",
       "196  The patient has a polyp in the antrum which is...      0\n",
       "197               Normal gastroscopy to the duodenum.       0\n",
       "198  list(\"The stricture will need to be dilatated ...      0\n",
       "199  There is a polyp in the antrum which is stalke...      0\n",
       "\n",
       "[200 rows x 2 columns]"
      ]
     },
     "execution_count": 7,
     "metadata": {},
     "output_type": "execute_result"
    }
   ],
   "source": [
    "fake_real = pd.concat([synthetic, real])\n",
    "fake_real.reset_index(drop=True, inplace=True)\n",
    "fake_real"
   ]
  },
  {
   "cell_type": "markdown",
   "id": "2b367ae0",
   "metadata": {},
   "source": [
    "<a id=\"train_test_validation\"> </a>\n",
    "\n",
    "---\n",
    "### Creating a dictionary with train, test, validation datasets \n",
    "---"
   ]
  },
  {
   "cell_type": "code",
   "execution_count": 8,
   "id": "12f32469",
   "metadata": {
    "ExecuteTime": {
     "end_time": "2023-03-14T23:16:56.284935Z",
     "start_time": "2023-03-14T23:16:56.267327Z"
    }
   },
   "outputs": [
    {
     "data": {
      "text/plain": [
       "DatasetDict({\n",
       "    train: Dataset({\n",
       "        features: ['findings', 'label'],\n",
       "        num_rows: 98\n",
       "    })\n",
       "    test: Dataset({\n",
       "        features: ['findings', 'label'],\n",
       "        num_rows: 60\n",
       "    })\n",
       "    validation: Dataset({\n",
       "        features: ['findings', 'label'],\n",
       "        num_rows: 42\n",
       "    })\n",
       "})"
      ]
     },
     "execution_count": 8,
     "metadata": {},
     "output_type": "execute_result"
    }
   ],
   "source": [
    "Dict_datasets = train_test_validation(fake_real)\n",
    "Dict_datasets"
   ]
  },
  {
   "cell_type": "markdown",
   "id": "c0570aa3",
   "metadata": {},
   "source": [
    "<a id=\"tokenizer_model\"> </a>\n",
    "\n",
    "---\n",
    "### Load tokenizer and model \n",
    "---\n",
    "\n",
    "- BioBERT is a pre-trained language model that is designed for biomedical natural language processing (NLP) tasks. It is based on the Google's BERT (Bidirectional Encoder Representations from Transformers) architecture.\n",
    "\n",
    "- BioBERT is pre-trained on a large corpus of biomedical text data, which includes abstracts and full-text articles from PubMed Central and other biomedical databases. \n",
    "\n",
    "---"
   ]
  },
  {
   "cell_type": "code",
   "execution_count": 9,
   "id": "01c9db34",
   "metadata": {
    "ExecuteTime": {
     "end_time": "2023-03-14T23:16:57.084382Z",
     "start_time": "2023-03-14T23:16:56.429391Z"
    }
   },
   "outputs": [],
   "source": [
    "tokenizer = AutoTokenizer.from_pretrained(\"dmis-lab/biobert-v1.1\")"
   ]
  },
  {
   "cell_type": "code",
   "execution_count": 10,
   "id": "1e494c0b",
   "metadata": {
    "ExecuteTime": {
     "end_time": "2023-03-14T23:16:58.654364Z",
     "start_time": "2023-03-14T23:16:57.319528Z"
    }
   },
   "outputs": [],
   "source": [
    "model = AutoModel.from_pretrained(\"dmis-lab/biobert-v1.1\", num_labels=2)"
   ]
  },
  {
   "cell_type": "markdown",
   "id": "240217ef",
   "metadata": {},
   "source": [
    "<a id=\"tokenize\"> </a>\n",
    "\n",
    "---\n",
    "### Tokenize the datasets \n",
    "---"
   ]
  },
  {
   "cell_type": "code",
   "execution_count": 11,
   "id": "e241f52f",
   "metadata": {
    "ExecuteTime": {
     "end_time": "2023-03-14T23:16:59.013798Z",
     "start_time": "2023-03-14T23:16:58.900668Z"
    }
   },
   "outputs": [
    {
     "data": {
      "application/vnd.jupyter.widget-view+json": {
       "model_id": "",
       "version_major": 2,
       "version_minor": 0
      },
      "text/plain": [
       "Map:   0%|          | 0/98 [00:00<?, ? examples/s]"
      ]
     },
     "metadata": {},
     "output_type": "display_data"
    },
    {
     "data": {
      "application/vnd.jupyter.widget-view+json": {
       "model_id": "",
       "version_major": 2,
       "version_minor": 0
      },
      "text/plain": [
       "Map:   0%|          | 0/60 [00:00<?, ? examples/s]"
      ]
     },
     "metadata": {},
     "output_type": "display_data"
    },
    {
     "data": {
      "application/vnd.jupyter.widget-view+json": {
       "model_id": "",
       "version_major": 2,
       "version_minor": 0
      },
      "text/plain": [
       "Map:   0%|          | 0/42 [00:00<?, ? examples/s]"
      ]
     },
     "metadata": {},
     "output_type": "display_data"
    }
   ],
   "source": [
    "#--------------------------------------------------------------------\n",
    "# define function to tokenize the datasets\n",
    "#--------------------------------------------------------------------\n",
    "def tokenize(data):\n",
    "    return tokenizer(data[\"findings\"], padding=True, truncation=True,max_length=500) \n",
    "#--------------------------------------------------------------------\n",
    "# tokenize datasets\n",
    "#--------------------------------------------------------------------\n",
    "Dict_datasets_encoded = Dict_datasets.map(tokenize, batched=True, batch_size=None)"
   ]
  },
  {
   "cell_type": "markdown",
   "id": "dcb2760e",
   "metadata": {},
   "source": [
    "<a id=\"Formating\"> </a>\n",
    "\n",
    "---\n",
    "### Formating to torch \n",
    "---"
   ]
  },
  {
   "cell_type": "code",
   "execution_count": 12,
   "id": "553391f2",
   "metadata": {
    "ExecuteTime": {
     "end_time": "2023-03-14T23:16:59.218046Z",
     "start_time": "2023-03-14T23:16:59.210849Z"
    }
   },
   "outputs": [],
   "source": [
    "Dict_datasets_encoded.set_format(\"torch\", columns=[\"input_ids\", \"attention_mask\", \"label\"])"
   ]
  },
  {
   "cell_type": "markdown",
   "id": "43e10952",
   "metadata": {},
   "source": [
    "<a id=\"Extracting_hidden_states\"> </a>\n",
    "\n",
    "---\n",
    "### Extracting hidden states \n",
    "---\n"
   ]
  },
  {
   "cell_type": "code",
   "execution_count": 13,
   "id": "602a2580",
   "metadata": {
    "ExecuteTime": {
     "end_time": "2023-03-14T23:18:25.558601Z",
     "start_time": "2023-03-14T23:17:05.896917Z"
    }
   },
   "outputs": [
    {
     "data": {
      "application/vnd.jupyter.widget-view+json": {
       "model_id": "",
       "version_major": 2,
       "version_minor": 0
      },
      "text/plain": [
       "Map:   0%|          | 0/98 [00:00<?, ? examples/s]"
      ]
     },
     "metadata": {},
     "output_type": "display_data"
    },
    {
     "data": {
      "application/vnd.jupyter.widget-view+json": {
       "model_id": "",
       "version_major": 2,
       "version_minor": 0
      },
      "text/plain": [
       "Map:   0%|          | 0/60 [00:00<?, ? examples/s]"
      ]
     },
     "metadata": {},
     "output_type": "display_data"
    },
    {
     "data": {
      "application/vnd.jupyter.widget-view+json": {
       "model_id": "",
       "version_major": 2,
       "version_minor": 0
      },
      "text/plain": [
       "Map:   0%|          | 0/42 [00:00<?, ? examples/s]"
      ]
     },
     "metadata": {},
     "output_type": "display_data"
    }
   ],
   "source": [
    "device = torch.device(\"cuda\" if torch.cuda.is_available() else \"cpu\")\n",
    "\n",
    "def extract_hidden_states(batch):\n",
    "    # Place model inputs on the GPU\n",
    "    inputs = {k:v.to(device) for k,v in batch.items() \n",
    "              if k in tokenizer.model_input_names}\n",
    "    # Extract last hidden states\n",
    "    with torch.no_grad():\n",
    "        last_hidden_state = model(**inputs).last_hidden_state\n",
    "    # Return vector for [CLS] token\n",
    "    return {\"hidden_state\": last_hidden_state[:,0].cpu().numpy()}\n",
    "dataset_hidden = Dict_datasets_encoded.map(extract_hidden_states, batched=True)"
   ]
  },
  {
   "cell_type": "markdown",
   "id": "e5d3ccba",
   "metadata": {},
   "source": [
    "<a id=\"feature_matrix\"> </a>\n",
    "\n",
    "---\n",
    "### Creating a feature matrix \n",
    "---\n",
    "\n",
    "We will use the hidden states as input features and the labels as targets."
   ]
  },
  {
   "cell_type": "code",
   "execution_count": 14,
   "id": "3aeaf49c",
   "metadata": {
    "ExecuteTime": {
     "end_time": "2023-03-14T23:18:29.503847Z",
     "start_time": "2023-03-14T23:18:29.491408Z"
    }
   },
   "outputs": [],
   "source": [
    "X_train = np.array(dataset_hidden[\"train\"][\"hidden_state\"])\n",
    "X_valid = np.array(dataset_hidden[\"validation\"][\"hidden_state\"])\n",
    "X_test = np.array(dataset_hidden[\"test\"][\"hidden_state\"])\n",
    "y_train = np.array(dataset_hidden[\"train\"][\"label\"])\n",
    "y_valid = np.array(dataset_hidden[\"validation\"][\"label\"])\n",
    "y_test = np.array(dataset_hidden[\"test\"][\"label\"])"
   ]
  },
  {
   "cell_type": "markdown",
   "id": "198431ad",
   "metadata": {},
   "source": [
    "---\n",
    "### Visualizing the training set <a id=\"Visualizing_training\"> </a>\n",
    "---"
   ]
  },
  {
   "cell_type": "code",
   "execution_count": 15,
   "id": "840e86a3",
   "metadata": {
    "ExecuteTime": {
     "end_time": "2023-03-14T23:18:50.234415Z",
     "start_time": "2023-03-14T23:18:43.948322Z"
    }
   },
   "outputs": [
    {
     "data": {
      "text/html": [
       "<div>\n",
       "<style scoped>\n",
       "    .dataframe tbody tr th:only-of-type {\n",
       "        vertical-align: middle;\n",
       "    }\n",
       "\n",
       "    .dataframe tbody tr th {\n",
       "        vertical-align: top;\n",
       "    }\n",
       "\n",
       "    .dataframe thead th {\n",
       "        text-align: right;\n",
       "    }\n",
       "</style>\n",
       "<table border=\"1\" class=\"dataframe\">\n",
       "  <thead>\n",
       "    <tr style=\"text-align: right;\">\n",
       "      <th></th>\n",
       "      <th>X</th>\n",
       "      <th>Y</th>\n",
       "      <th>label</th>\n",
       "    </tr>\n",
       "  </thead>\n",
       "  <tbody>\n",
       "    <tr>\n",
       "      <th>0</th>\n",
       "      <td>9.575847</td>\n",
       "      <td>14.263799</td>\n",
       "      <td>0</td>\n",
       "    </tr>\n",
       "    <tr>\n",
       "      <th>1</th>\n",
       "      <td>9.930551</td>\n",
       "      <td>16.609842</td>\n",
       "      <td>0</td>\n",
       "    </tr>\n",
       "    <tr>\n",
       "      <th>2</th>\n",
       "      <td>7.783401</td>\n",
       "      <td>14.940479</td>\n",
       "      <td>0</td>\n",
       "    </tr>\n",
       "    <tr>\n",
       "      <th>3</th>\n",
       "      <td>12.302001</td>\n",
       "      <td>-1.804215</td>\n",
       "      <td>1</td>\n",
       "    </tr>\n",
       "    <tr>\n",
       "      <th>4</th>\n",
       "      <td>10.395199</td>\n",
       "      <td>13.178617</td>\n",
       "      <td>1</td>\n",
       "    </tr>\n",
       "  </tbody>\n",
       "</table>\n",
       "</div>"
      ],
      "text/plain": [
       "           X          Y  label\n",
       "0   9.575847  14.263799      0\n",
       "1   9.930551  16.609842      0\n",
       "2   7.783401  14.940479      0\n",
       "3  12.302001  -1.804215      1\n",
       "4  10.395199  13.178617      1"
      ]
     },
     "execution_count": 15,
     "metadata": {},
     "output_type": "execute_result"
    }
   ],
   "source": [
    "# Scale features to [0,1] range\n",
    "X_scaled = MinMaxScaler().fit_transform(X_train)\n",
    "# Initialize and fit UMAP\n",
    "mapper = UMAP(n_components=2, metric=\"cosine\").fit(X_scaled)\n",
    "# Create a DataFrame of 2D embeddings\n",
    "df_emb = pd.DataFrame(mapper.embedding_, columns=[\"X\", \"Y\"])\n",
    "df_emb[\"label\"] = y_train\n",
    "df_emb.head()"
   ]
  },
  {
   "cell_type": "code",
   "execution_count": 16,
   "id": "d647a99b",
   "metadata": {
    "ExecuteTime": {
     "end_time": "2023-03-14T23:18:50.706850Z",
     "start_time": "2023-03-14T23:18:50.589206Z"
    }
   },
   "outputs": [
    {
     "data": {
      "image/png": "[encoded data removed]",
      "text/plain": [
       "<Figure size 500x300 with 2 Axes>"
      ]
     },
     "metadata": {},
     "output_type": "display_data"
    }
   ],
   "source": [
    "fig, axes = plt.subplots(1, 2, figsize=(5,3))\n",
    "axes = axes.flatten()\n",
    "cmaps = [\"Blues\", \"Oranges\"]\n",
    "labels = ['Generated findings','Original findings']\n",
    "\n",
    "for i, (label, cmap) in enumerate(zip(labels, cmaps)):\n",
    "    df_emb_sub = df_emb.query(f\"label == {i}\")\n",
    "    axes[i].hexbin(df_emb_sub[\"X\"], df_emb_sub[\"Y\"], cmap=cmap,\n",
    "                   gridsize=20, linewidths=(0,))\n",
    "    axes[i].set_title(label)\n",
    "    axes[i].set_xticks([]), axes[i].set_yticks([])\n",
    "\n",
    "plt.tight_layout()\n",
    "plt.show()"
   ]
  },
  {
   "cell_type": "markdown",
   "id": "9adf3c9c",
   "metadata": {},
   "source": [
    "<a id=\"Training_classifier\"> </a>\n",
    "\n",
    "---\n",
    "### Training a classifier \n",
    "---"
   ]
  },
  {
   "cell_type": "code",
   "execution_count": 17,
   "id": "d88588ec",
   "metadata": {
    "ExecuteTime": {
     "end_time": "2023-03-14T23:18:52.118710Z",
     "start_time": "2023-03-14T23:18:52.042119Z"
    }
   },
   "outputs": [
    {
     "data": {
      "text/html": [
       "<style>#sk-container-id-1 {color: black;background-color: white;}#sk-container-id-1 pre{padding: 0;}#sk-container-id-1 div.sk-toggleable {background-color: white;}#sk-container-id-1 label.sk-toggleable__label {cursor: pointer;display: block;width: 100%;margin-bottom: 0;padding: 0.3em;box-sizing: border-box;text-align: center;}#sk-container-id-1 label.sk-toggleable__label-arrow:before {content: \"▸\";float: left;margin-right: 0.25em;color: #696969;}#sk-container-id-1 label.sk-toggleable__label-arrow:hover:before {color: black;}#sk-container-id-1 div.sk-estimator:hover label.sk-toggleable__label-arrow:before {color: black;}#sk-container-id-1 div.sk-toggleable__content {max-height: 0;max-width: 0;overflow: hidden;text-align: left;background-color: #f0f8ff;}#sk-container-id-1 div.sk-toggleable__content pre {margin: 0.2em;color: black;border-radius: 0.25em;background-color: #f0f8ff;}#sk-container-id-1 input.sk-toggleable__control:checked~div.sk-toggleable__content {max-height: 200px;max-width: 100%;overflow: auto;}#sk-container-id-1 input.sk-toggleable__control:checked~label.sk-toggleable__label-arrow:before {content: \"▾\";}#sk-container-id-1 div.sk-estimator input.sk-toggleable__control:checked~label.sk-toggleable__label {background-color: #d4ebff;}#sk-container-id-1 div.sk-label input.sk-toggleable__control:checked~label.sk-toggleable__label {background-color: #d4ebff;}#sk-container-id-1 input.sk-hidden--visually {border: 0;clip: rect(1px 1px 1px 1px);clip: rect(1px, 1px, 1px, 1px);height: 1px;margin: -1px;overflow: hidden;padding: 0;position: absolute;width: 1px;}#sk-container-id-1 div.sk-estimator {font-family: monospace;background-color: #f0f8ff;border: 1px dotted black;border-radius: 0.25em;box-sizing: border-box;margin-bottom: 0.5em;}#sk-container-id-1 div.sk-estimator:hover {background-color: #d4ebff;}#sk-container-id-1 div.sk-parallel-item::after {content: \"\";width: 100%;border-bottom: 1px solid gray;flex-grow: 1;}#sk-container-id-1 div.sk-label:hover label.sk-toggleable__label {background-color: #d4ebff;}#sk-container-id-1 div.sk-serial::before {content: \"\";position: absolute;border-left: 1px solid gray;box-sizing: border-box;top: 0;bottom: 0;left: 50%;z-index: 0;}#sk-container-id-1 div.sk-serial {display: flex;flex-direction: column;align-items: center;background-color: white;padding-right: 0.2em;padding-left: 0.2em;position: relative;}#sk-container-id-1 div.sk-item {position: relative;z-index: 1;}#sk-container-id-1 div.sk-parallel {display: flex;align-items: stretch;justify-content: center;background-color: white;position: relative;}#sk-container-id-1 div.sk-item::before, #sk-container-id-1 div.sk-parallel-item::before {content: \"\";position: absolute;border-left: 1px solid gray;box-sizing: border-box;top: 0;bottom: 0;left: 50%;z-index: -1;}#sk-container-id-1 div.sk-parallel-item {display: flex;flex-direction: column;z-index: 1;position: relative;background-color: white;}#sk-container-id-1 div.sk-parallel-item:first-child::after {align-self: flex-end;width: 50%;}#sk-container-id-1 div.sk-parallel-item:last-child::after {align-self: flex-start;width: 50%;}#sk-container-id-1 div.sk-parallel-item:only-child::after {width: 0;}#sk-container-id-1 div.sk-dashed-wrapped {border: 1px dashed gray;margin: 0 0.4em 0.5em 0.4em;box-sizing: border-box;padding-bottom: 0.4em;background-color: white;}#sk-container-id-1 div.sk-label label {font-family: monospace;font-weight: bold;display: inline-block;line-height: 1.2em;}#sk-container-id-1 div.sk-label-container {text-align: center;}#sk-container-id-1 div.sk-container {/* jupyter's `normalize.less` sets `[hidden] { display: none; }` but bootstrap.min.css set `[hidden] { display: none !important; }` so we also need the `!important` here to be able to override the default hidden behavior on the sphinx rendered scikit-learn.org. See: https://github.com/scikit-learn/scikit-learn/issues/21755 */display: inline-block !important;position: relative;}#sk-container-id-1 div.sk-text-repr-fallback {display: none;}</style><div id=\"sk-container-id-1\" class=\"sk-top-container\"><div class=\"sk-text-repr-fallback\"><pre>LogisticRegression()</pre><b>In a Jupyter environment, please rerun this cell to show the HTML representation or trust the notebook. <br />On GitHub, the HTML representation is unable to render, please try loading this page with nbviewer.org.</b></div><div class=\"sk-container\" hidden><div class=\"sk-item\"><div class=\"sk-estimator sk-toggleable\"><input class=\"sk-toggleable__control sk-hidden--visually\" id=\"sk-estimator-id-1\" type=\"checkbox\" checked><label for=\"sk-estimator-id-1\" class=\"sk-toggleable__label sk-toggleable__label-arrow\">LogisticRegression</label><div class=\"sk-toggleable__content\"><pre>LogisticRegression()</pre></div></div></div></div></div>"
      ],
      "text/plain": [
       "LogisticRegression()"
      ]
     },
     "execution_count": 17,
     "metadata": {},
     "output_type": "execute_result"
    }
   ],
   "source": [
    "lr_clf = LogisticRegression()\n",
    "lr_clf.fit(X_train, y_train)"
   ]
  },
  {
   "cell_type": "code",
   "execution_count": 30,
   "id": "c5c9e299",
   "metadata": {
    "ExecuteTime": {
     "end_time": "2023-03-14T23:24:22.590438Z",
     "start_time": "2023-03-14T23:24:22.583232Z"
    }
   },
   "outputs": [],
   "source": [
    "# Save your model\n",
    "with open('model.pkl', 'wb') as file:\n",
    "    pickle.dump(lr_clf, file)"
   ]
  },
  {
   "cell_type": "markdown",
   "id": "e278fa47",
   "metadata": {},
   "source": [
    "### Evaluation of the classifier"
   ]
  },
  {
   "cell_type": "code",
   "execution_count": 26,
   "id": "148ea200",
   "metadata": {
    "ExecuteTime": {
     "end_time": "2023-03-14T23:21:01.755374Z",
     "start_time": "2023-03-14T23:21:01.742545Z"
    }
   },
   "outputs": [
    {
     "data": {
      "text/plain": [
       "0.5"
      ]
     },
     "execution_count": 26,
     "metadata": {},
     "output_type": "execute_result"
    }
   ],
   "source": [
    "from sklearn.dummy import DummyClassifier\n",
    "\n",
    "dummy_clf = DummyClassifier(strategy=\"most_frequent\")\n",
    "dummy_clf.fit(X_train, y_train)\n",
    "y_preds = dummy_clf.predict(X_test)\n",
    "accuracy =accuracy_score(y_test, y_preds)\n",
    "accuracy"
   ]
  },
  {
   "cell_type": "code",
   "execution_count": 27,
   "id": "962d470b",
   "metadata": {
    "ExecuteTime": {
     "end_time": "2023-03-14T23:21:02.481034Z",
     "start_time": "2023-03-14T23:21:02.356035Z"
    }
   },
   "outputs": [
    {
     "data": {
      "image/png": "[encoded data removed]",
      "text/plain": [
       "<Figure size 300x300 with 1 Axes>"
      ]
     },
     "metadata": {},
     "output_type": "display_data"
    }
   ],
   "source": [
    "y_preds = lr_clf.predict(X_test)\n",
    "\n",
    "def plot_confusion_matrix(y_preds, y_true, labels):\n",
    "    cm = confusion_matrix(y_true, y_preds, normalize=\"true\")\n",
    "    fig, ax = plt.subplots(figsize=(3, 3))\n",
    "    disp = ConfusionMatrixDisplay(confusion_matrix=cm, display_labels=labels)\n",
    "    disp.plot(cmap=\"Blues\", values_format=\".2f\", ax=ax, colorbar=False)\n",
    "    plt.title(\"Normalized confusion matrix\")\n",
    "    plt.show()\n",
    "\n",
    "plot_confusion_matrix(y_test,y_preds, [1,0])"
   ]
  },
  {
   "cell_type": "code",
   "execution_count": 21,
   "id": "f212ff53",
   "metadata": {
    "ExecuteTime": {
     "end_time": "2023-03-14T23:18:58.297625Z",
     "start_time": "2023-03-14T23:18:58.274452Z"
    }
   },
   "outputs": [
    {
     "name": "stdout",
     "output_type": "stream",
     "text": [
      "accuracy: 0.95\n",
      "precision: 0.9090909090909091\n",
      "recall: 1.0\n",
      "f1: 0.9523809523809523\n"
     ]
    }
   ],
   "source": [
    "from sklearn.metrics import accuracy_score\n",
    "from sklearn.metrics import precision_score\n",
    "from sklearn.metrics import recall_score\n",
    "from sklearn.metrics import f1_score\n",
    "from sklearn.metrics import roc_auc_score\n",
    "#------------------------------------------------\n",
    "accuracy =accuracy_score(y_test, y_preds)\n",
    "precision = precision_score(y_test, y_preds)\n",
    "recall = recall_score(y_test, y_preds)\n",
    "f1 = f1_score(y_test, y_preds)\n",
    "#------------------------------------------------\n",
    "print('accuracy:',accuracy)\n",
    "print('precision:',precision)\n",
    "print('recall:',recall)\n",
    "print('f1:',f1)"
   ]
  },
  {
   "cell_type": "markdown",
   "id": "146a58d0",
   "metadata": {},
   "source": [
    "### Error analysis"
   ]
  },
  {
   "cell_type": "code",
   "execution_count": 22,
   "id": "81d7ea0a",
   "metadata": {
    "ExecuteTime": {
     "end_time": "2023-03-14T23:19:05.887507Z",
     "start_time": "2023-03-14T23:19:05.879662Z"
    }
   },
   "outputs": [],
   "source": [
    "def single_text(lr_clf,custom_sentence,custom_label):\n",
    "    #-----------------------------------------------------\n",
    "    inputs = tokenizer(custom_sentence, return_tensors=\"pt\")\n",
    "    #-----------------------------------------------------\n",
    "    labels = ['Real medical report','Fake medical report']\n",
    "    #-----------------------------------------------------\n",
    "    inputs = {k:v.to(device) for k,v in inputs.items()}\n",
    "    with torch.no_grad():\n",
    "            outputs = model(**inputs)\n",
    "    #outputs.last_hidden_state.shape\n",
    "    #-----------------------------------------------------\n",
    "    preds_prob = lr_clf.predict_proba(np.array(outputs.last_hidden_state[:,0].cpu().numpy()))\n",
    "    preds = lr_clf.predict(np.array(outputs.last_hidden_state[:,0].cpu().numpy()))\n",
    "    #-----------------------------------------------------\n",
    "    #preds_df = pd.DataFrame(preds[0])\n",
    "    #-----------------------------------------------------\n",
    "    plt.figure(figsize=(6,2))\n",
    "    plt.bar(labels, 100 * preds_prob[0], color='red')\n",
    "    plt.title(f'\"{custom_sentence[:110]}...\"')\n",
    "    plt.ylabel(\"Class probability (%)\")\n",
    "    plt.show()"
   ]
  },
  {
   "cell_type": "code",
   "execution_count": 1,
   "id": "b5e8db13",
   "metadata": {
    "ExecuteTime": {
     "end_time": "2023-03-14T23:25:20.617644Z",
     "start_time": "2023-03-14T23:25:12.969221Z"
    }
   },
   "outputs": [
    {
     "data": {
      "text/plain": [
       "0.9405951141622851"
      ]
     },
     "execution_count": 1,
     "metadata": {},
     "output_type": "execute_result"
    }
   ],
   "source": [
    "from endogpt.Classifier import single_text \n",
    "custom_sentence = 'There is a polyp in the body which is sessile with an abnormal pit pattern. A gastric polyp is seen in the pylorus, with a tubular and elongated shape and a smooth surface.The polyp was removed with minimal thermal injury to surrounding tissue using a cold snare technique..  FOLLOW UP: The patient should be advised to seek medical attention immediately if they experience severe abdominal pain, vomiting, or bloody stools. RECOMMENDATION: The patient should be advised to avoid NSAIDs and aspirin, which can increase the risk of developing more polyps.'\n",
    "single_text(custom_sentence)"
   ]
  },
  {
   "cell_type": "code",
   "execution_count": 22,
   "id": "fbcd69e6",
   "metadata": {
    "ExecuteTime": {
     "end_time": "2023-03-14T23:06:37.714840Z",
     "start_time": "2023-03-14T23:06:37.658534Z"
    }
   },
   "outputs": [
    {
     "data": {
      "text/plain": [
       "Dataset({\n",
       "    features: ['findings', 'label'],\n",
       "    num_rows: 100\n",
       "})"
      ]
     },
     "execution_count": 22,
     "metadata": {},
     "output_type": "execute_result"
    }
   ],
   "source": [
    "string = pd.read_csv('data/findings100.csv')\n",
    "synthetic = preprocess_synthetic(string)\n",
    "synthetic_dataset = datasets.Dataset.from_pandas(synthetic)\n",
    "synthetic_dataset"
   ]
  },
  {
   "cell_type": "code",
   "execution_count": null,
   "id": "c5607dae",
   "metadata": {
    "ExecuteTime": {
     "start_time": "2023-03-14T23:06:38.529Z"
    }
   },
   "outputs": [
    {
     "data": {
      "application/vnd.jupyter.widget-view+json": {
       "model_id": "c78da9681b094568967470d3d37d0a54",
       "version_major": 2,
       "version_minor": 0
      },
      "text/plain": [
       "Map:   0%|          | 0/100 [00:00<?, ? examples/s]"
      ]
     },
     "metadata": {},
     "output_type": "display_data"
    }
   ],
   "source": [
    "def single_text_mapping(custom_sentence):\n",
    "    custom_sentence=custom_sentence['findings']\n",
    "    prob=single_text(custom_sentence)\n",
    "    return {\"proba\": prob}\n",
    "\n",
    "synthetic_prob = synthetic_dataset.map(single_text_mapping)"
   ]
  },
  {
   "cell_type": "code",
   "execution_count": null,
   "id": "b262359a",
   "metadata": {
    "ExecuteTime": {
     "start_time": "2023-03-14T23:06:53.469Z"
    }
   },
   "outputs": [],
   "source": [
    "synthetic_prob"
   ]
  },
  {
   "cell_type": "code",
   "execution_count": null,
   "id": "db864433",
   "metadata": {
    "ExecuteTime": {
     "start_time": "2023-03-14T23:06:53.675Z"
    }
   },
   "outputs": [],
   "source": [
    "synthetic_prob.set_format(\"pandas\")\n",
    "synthetic_prob"
   ]
  },
  {
   "cell_type": "code",
   "execution_count": null,
   "id": "5ef18496",
   "metadata": {
    "ExecuteTime": {
     "start_time": "2023-03-14T23:06:53.942Z"
    }
   },
   "outputs": [],
   "source": [
    "df_test = synthetic_prob[:]\n",
    "df_test\n",
    "df_test.sort_values(\"proba\", ascending=False).tail(10)"
   ]
  },
  {
   "cell_type": "code",
   "execution_count": null,
   "id": "93084d3c",
   "metadata": {
    "ExecuteTime": {
     "start_time": "2023-03-14T23:06:54.136Z"
    }
   },
   "outputs": [],
   "source": [
    "df_test.findings.iloc[81]"
   ]
  },
  {
   "cell_type": "code",
   "execution_count": null,
   "id": "5bde0463",
   "metadata": {
    "ExecuteTime": {
     "start_time": "2023-03-14T23:06:54.363Z"
    }
   },
   "outputs": [],
   "source": [
    "df_test.sort_values(\"proba\", ascending=False).head(30)"
   ]
  },
  {
   "cell_type": "code",
   "execution_count": null,
   "id": "1e275cf2",
   "metadata": {
    "ExecuteTime": {
     "start_time": "2023-03-14T23:06:54.569Z"
    }
   },
   "outputs": [],
   "source": [
    "df_test.findings.iloc[66]"
   ]
  }
 ],
 "metadata": {
  "kernelspec": {
   "display_name": "Python 3 (ipykernel)",
   "language": "python",
   "name": "python3"
  },
  "language_info": {
   "codemirror_mode": {
    "name": "ipython",
    "version": 3
   },
   "file_extension": ".py",
   "mimetype": "text/x-python",
   "name": "python",
   "nbconvert_exporter": "python",
   "pygments_lexer": "ipython3",
   "version": "3.10.6"
  },
  "toc": {
   "base_numbering": 1,
   "nav_menu": {},
   "number_sections": true,
   "sideBar": true,
   "skip_h1_title": false,
   "title_cell": "Table of Contents",
   "title_sidebar": "Contents",
   "toc_cell": false,
   "toc_position": {},
   "toc_section_display": true,
   "toc_window_display": false
  },
  "varInspector": {
   "cols": {
    "lenName": 16,
    "lenType": 16,
    "lenVar": 40
   },
   "kernels_config": {
    "python": {
     "delete_cmd_postfix": "",
     "delete_cmd_prefix": "del ",
     "library": "var_list.py",
     "varRefreshCmd": "print(var_dic_list())"
    },
    "r": {
     "delete_cmd_postfix": ") ",
     "delete_cmd_prefix": "rm(",
     "library": "var_list.r",
     "varRefreshCmd": "cat(var_dic_list()) "
    }
   },
   "types_to_exclude": [
    "module",
    "function",
    "builtin_function_or_method",
    "instance",
    "_Feature"
   ],
   "window_display": false
  }
 },
 "nbformat": 4,
 "nbformat_minor": 5
}
