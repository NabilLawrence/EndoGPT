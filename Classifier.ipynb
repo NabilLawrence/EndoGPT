{
 "cells": [
  {
   "cell_type": "markdown",
   "id": "b301c572",
   "metadata": {
    "ExecuteTime": {
     "end_time": "2023-03-09T09:49:41.700186Z",
     "start_time": "2023-03-09T09:49:41.693219Z"
    }
   },
   "source": [
    "---\n",
    "## Classifier  \n",
    "---\n",
    "### Content\n",
    "---\n",
    "\n",
    "- **[Libraries to use](#Libraries_to_use)**\n",
    "\n",
    "- **[Loading the dataset](#Loading_dataset)**\n",
    "\n",
    "- **[Cleaning the dataset and extracting required features](#Cleaning_extracting)**\n",
    "\n",
    "- **[Including reversed findings to the dataset](#Reversed_findings)**\n",
    "\n",
    "- **[Creating a dictionary with train, test, validation datasets](#train_test_validation)**\n",
    "\n",
    "- **[Load tokenizer and model](#tokenizer_model)**\n",
    "\n",
    "- **[Tokenize the datasets](#tokenize)**\n",
    "\n",
    "- **[Formating to torch](#Formating)**\n",
    "\n",
    "- **[Extracting hidden states](#Extracting_hidden_states)**\n",
    "\n",
    "- **[Creating a feature matrix](#feature_matrix)**\n",
    "\n",
    "- **[Visualizing the training set](#Visualizing_training)**\n",
    "\n",
    "- **[Training a classifier](#Training_classifier)**\n",
    "\n",
    " ---"
   ]
  },
  {
   "cell_type": "markdown",
   "id": "bae2c097",
   "metadata": {},
   "source": [
    "---\n",
    "### Libraries to use <a id=\"Libraries_to_use\"> </a>\n",
    "---"
   ]
  },
  {
   "cell_type": "code",
   "execution_count": 140,
   "id": "dfb1b9db",
   "metadata": {
    "ExecuteTime": {
     "end_time": "2023-03-12T23:53:08.677856Z",
     "start_time": "2023-03-12T23:53:08.667030Z"
    }
   },
   "outputs": [],
   "source": [
    "#------------------------------------------------------\n",
    "# Regular modules\n",
    "#------------------------------------------------------\n",
    "import numpy as np\n",
    "import matplotlib.pyplot as plt\n",
    "import pandas as pd\n",
    "import seaborn as sns\n",
    "import ast\n",
    "import re\n",
    "from sklearn.preprocessing import MinMaxScaler\n",
    "from sklearn.model_selection import train_test_split\n",
    "from sklearn.dummy import DummyClassifier\n",
    "from sklearn.linear_model import LogisticRegression\n",
    "from sklearn.metrics import ConfusionMatrixDisplay, confusion_matrix\n",
    "from sklearn.metrics import f1_score\n",
    "#------------------------------------------------------\n",
    "# To avoid warnings\n",
    "#------------------------------------------------------\n",
    "import os\n",
    "import warnings \n",
    "warnings.filterwarnings('ignore')\n",
    "os.environ['TF_CPP_MIN_LOG_LEVEL'] = '3'\n",
    "#------------------------------------------------------\n",
    "# Not regular modules\n",
    "#------------------------------------------------------\n",
    "import datasets\n",
    "import torch\n",
    "from umap import UMAP\n",
    "from transformers import AutoTokenizer, AutoModel,AutoModelForSequenceClassification\n",
    "#------------------------------------------------------\n",
    "# Created modules\n",
    "#------------------------------------------------------\n",
    "from Classifier import data_cleaning  \n",
    "from Classifier import including_reversing \n",
    "from Classifier import train_test_validation  "
   ]
  },
  {
   "cell_type": "markdown",
   "id": "9dbcacc5",
   "metadata": {},
   "source": [
    "---\n",
    "### Loading the dataset <a id=\"Loading_dataset\"> </a>\n",
    "---"
   ]
  },
  {
   "cell_type": "code",
   "execution_count": 98,
   "id": "0a1d7aa1",
   "metadata": {
    "ExecuteTime": {
     "end_time": "2023-03-12T23:38:07.460130Z",
     "start_time": "2023-03-12T23:37:59.410612Z"
    }
   },
   "outputs": [],
   "source": [
    "real = pd.read_csv(\"../data/UpperGI.csv\")\n",
    "real  =real.rename(columns={\"out\":\"text\"})\n",
    "real = data_cleaning(real)\n",
    "real = real[['findings']]\n",
    "real['label'] = 0\n",
    "real=real.iloc[0:100]"
   ]
  },
  {
   "cell_type": "code",
   "execution_count": 99,
   "id": "aaa8492c",
   "metadata": {
    "ExecuteTime": {
     "end_time": "2023-03-12T23:38:09.657218Z",
     "start_time": "2023-03-12T23:38:09.641539Z"
    }
   },
   "outputs": [
    {
     "data": {
      "text/html": [
       "<div>\n",
       "<style scoped>\n",
       "    .dataframe tbody tr th:only-of-type {\n",
       "        vertical-align: middle;\n",
       "    }\n",
       "\n",
       "    .dataframe tbody tr th {\n",
       "        vertical-align: top;\n",
       "    }\n",
       "\n",
       "    .dataframe thead th {\n",
       "        text-align: right;\n",
       "    }\n",
       "</style>\n",
       "<table border=\"1\" class=\"dataframe\">\n",
       "  <thead>\n",
       "    <tr style=\"text-align: right;\">\n",
       "      <th></th>\n",
       "      <th>findings</th>\n",
       "      <th>label</th>\n",
       "    </tr>\n",
       "  </thead>\n",
       "  <tbody>\n",
       "    <tr>\n",
       "      <th>0</th>\n",
       "      <td>Columnar lined oesophagus is present. The segm...</td>\n",
       "      <td>0</td>\n",
       "    </tr>\n",
       "    <tr>\n",
       "      <th>1</th>\n",
       "      <td>There is an ulcer in the stomach which is supe...</td>\n",
       "      <td>0</td>\n",
       "    </tr>\n",
       "    <tr>\n",
       "      <th>2</th>\n",
       "      <td>LA Grade  D oesophagitis. The oesopahgitis is ...</td>\n",
       "      <td>0</td>\n",
       "    </tr>\n",
       "    <tr>\n",
       "      <th>3</th>\n",
       "      <td>There is a polyp in the body which is sessile ...</td>\n",
       "      <td>0</td>\n",
       "    </tr>\n",
       "    <tr>\n",
       "      <th>4</th>\n",
       "      <td>There is a stricture in the fundus which is Oe...</td>\n",
       "      <td>0</td>\n",
       "    </tr>\n",
       "  </tbody>\n",
       "</table>\n",
       "</div>"
      ],
      "text/plain": [
       "                                            findings  label\n",
       "0  Columnar lined oesophagus is present. The segm...      0\n",
       "1  There is an ulcer in the stomach which is supe...      0\n",
       "2  LA Grade  D oesophagitis. The oesopahgitis is ...      0\n",
       "3  There is a polyp in the body which is sessile ...      0\n",
       "4  There is a stricture in the fundus which is Oe...      0"
      ]
     },
     "execution_count": 99,
     "metadata": {},
     "output_type": "execute_result"
    }
   ],
   "source": [
    "real.head()"
   ]
  },
  {
   "cell_type": "code",
   "execution_count": 100,
   "id": "d45941ff",
   "metadata": {
    "ExecuteTime": {
     "end_time": "2023-03-12T23:38:11.582354Z",
     "start_time": "2023-03-12T23:38:11.569984Z"
    }
   },
   "outputs": [],
   "source": [
    "def cleaning_generated_data(fake):\n",
    "    fake=fake.rename(columns={\"generated_findings\":\"findings\"})\n",
    "    def regex_findings(string):\n",
    "        line=ast.literal_eval(string)\n",
    "        output =line[0]['generated_text']\n",
    "        hospital_reg = r\"\\.*FINDINGS:.*\"\n",
    "        output = re.findall(hospital_reg, output)[0][10:]\n",
    "        return output\n",
    "    fake[\"findings\"] = fake['findings'].apply(regex_findings)\n",
    "    fake['label'] = 1\n",
    "    return fake"
   ]
  },
  {
   "cell_type": "code",
   "execution_count": 101,
   "id": "1e1d3372",
   "metadata": {
    "ExecuteTime": {
     "end_time": "2023-03-12T23:38:13.888846Z",
     "start_time": "2023-03-12T23:38:13.878443Z"
    }
   },
   "outputs": [],
   "source": [
    "fake = pd.read_csv(\"../data/findings100.csv\")\n",
    "fake = fake[['findings']]\n",
    "fake['label'] = 1"
   ]
  },
  {
   "cell_type": "code",
   "execution_count": 102,
   "id": "2a413900",
   "metadata": {
    "ExecuteTime": {
     "end_time": "2023-03-12T23:38:15.947908Z",
     "start_time": "2023-03-12T23:38:15.929500Z"
    }
   },
   "outputs": [
    {
     "data": {
      "text/html": [
       "<div>\n",
       "<style scoped>\n",
       "    .dataframe tbody tr th:only-of-type {\n",
       "        vertical-align: middle;\n",
       "    }\n",
       "\n",
       "    .dataframe tbody tr th {\n",
       "        vertical-align: top;\n",
       "    }\n",
       "\n",
       "    .dataframe thead th {\n",
       "        text-align: right;\n",
       "    }\n",
       "</style>\n",
       "<table border=\"1\" class=\"dataframe\">\n",
       "  <thead>\n",
       "    <tr style=\"text-align: right;\">\n",
       "      <th></th>\n",
       "      <th>findings</th>\n",
       "      <th>label</th>\n",
       "    </tr>\n",
       "  </thead>\n",
       "  <tbody>\n",
       "    <tr>\n",
       "      <th>0</th>\n",
       "      <td>There is a stricture in the antrum which is r...</td>\n",
       "      <td>1</td>\n",
       "    </tr>\n",
       "    <tr>\n",
       "      <th>1</th>\n",
       "      <td>There is a polyp in the second part of the du...</td>\n",
       "      <td>1</td>\n",
       "    </tr>\n",
       "    <tr>\n",
       "      <th>2</th>\n",
       "      <td>Normal gastroscopy to the duodenum.</td>\n",
       "      <td>1</td>\n",
       "    </tr>\n",
       "    <tr>\n",
       "      <th>3</th>\n",
       "      <td>Normal gastroscopy to the duodenum.</td>\n",
       "      <td>1</td>\n",
       "    </tr>\n",
       "    <tr>\n",
       "      <th>4</th>\n",
       "      <td>LA Grade C oesophagitis. The oesophageal muco...</td>\n",
       "      <td>1</td>\n",
       "    </tr>\n",
       "    <tr>\n",
       "      <th>...</th>\n",
       "      <td>...</td>\n",
       "      <td>...</td>\n",
       "    </tr>\n",
       "    <tr>\n",
       "      <th>95</th>\n",
       "      <td>Hiatus Hernia- Large..</td>\n",
       "      <td>1</td>\n",
       "    </tr>\n",
       "    <tr>\n",
       "      <th>96</th>\n",
       "      <td>There is a stricture in the duodenal bulb whi...</td>\n",
       "      <td>1</td>\n",
       "    </tr>\n",
       "    <tr>\n",
       "      <th>97</th>\n",
       "      <td>The patient has inflammation in the stomach w...</td>\n",
       "      <td>1</td>\n",
       "    </tr>\n",
       "    <tr>\n",
       "      <th>98</th>\n",
       "      <td>There is an ulcer in the duodenal bulb which ...</td>\n",
       "      <td>1</td>\n",
       "    </tr>\n",
       "    <tr>\n",
       "      <th>99</th>\n",
       "      <td>Previous OGD showed LA grade C reflux oesopha...</td>\n",
       "      <td>1</td>\n",
       "    </tr>\n",
       "  </tbody>\n",
       "</table>\n",
       "<p>100 rows × 2 columns</p>\n",
       "</div>"
      ],
      "text/plain": [
       "                                             findings  label\n",
       "0    There is a stricture in the antrum which is r...      1\n",
       "1    There is a polyp in the second part of the du...      1\n",
       "2                 Normal gastroscopy to the duodenum.      1\n",
       "3                 Normal gastroscopy to the duodenum.      1\n",
       "4    LA Grade C oesophagitis. The oesophageal muco...      1\n",
       "..                                                ...    ...\n",
       "95                             Hiatus Hernia- Large..      1\n",
       "96   There is a stricture in the duodenal bulb whi...      1\n",
       "97   The patient has inflammation in the stomach w...      1\n",
       "98   There is an ulcer in the duodenal bulb which ...      1\n",
       "99   Previous OGD showed LA grade C reflux oesopha...      1\n",
       "\n",
       "[100 rows x 2 columns]"
      ]
     },
     "execution_count": 102,
     "metadata": {},
     "output_type": "execute_result"
    }
   ],
   "source": [
    "fake"
   ]
  },
  {
   "cell_type": "markdown",
   "id": "dc763c2e",
   "metadata": {},
   "source": [
    "---\n",
    "### Including reversed findings to the dataset <a id=\"Reversed_findings\"> </a>\n",
    "---"
   ]
  },
  {
   "cell_type": "code",
   "execution_count": 103,
   "id": "58659262",
   "metadata": {
    "ExecuteTime": {
     "end_time": "2023-03-12T23:38:17.910645Z",
     "start_time": "2023-03-12T23:38:17.904717Z"
    }
   },
   "outputs": [],
   "source": [
    "fake_real = pd.concat([fake, real])"
   ]
  },
  {
   "cell_type": "code",
   "execution_count": 104,
   "id": "591e104b",
   "metadata": {
    "ExecuteTime": {
     "end_time": "2023-03-12T23:38:20.321455Z",
     "start_time": "2023-03-12T23:38:20.307009Z"
    }
   },
   "outputs": [
    {
     "data": {
      "text/html": [
       "<div>\n",
       "<style scoped>\n",
       "    .dataframe tbody tr th:only-of-type {\n",
       "        vertical-align: middle;\n",
       "    }\n",
       "\n",
       "    .dataframe tbody tr th {\n",
       "        vertical-align: top;\n",
       "    }\n",
       "\n",
       "    .dataframe thead th {\n",
       "        text-align: right;\n",
       "    }\n",
       "</style>\n",
       "<table border=\"1\" class=\"dataframe\">\n",
       "  <thead>\n",
       "    <tr style=\"text-align: right;\">\n",
       "      <th></th>\n",
       "      <th>findings</th>\n",
       "      <th>label</th>\n",
       "    </tr>\n",
       "  </thead>\n",
       "  <tbody>\n",
       "    <tr>\n",
       "      <th>0</th>\n",
       "      <td>There is a stricture in the antrum which is r...</td>\n",
       "      <td>1</td>\n",
       "    </tr>\n",
       "    <tr>\n",
       "      <th>1</th>\n",
       "      <td>There is a polyp in the second part of the du...</td>\n",
       "      <td>1</td>\n",
       "    </tr>\n",
       "    <tr>\n",
       "      <th>2</th>\n",
       "      <td>Normal gastroscopy to the duodenum.</td>\n",
       "      <td>1</td>\n",
       "    </tr>\n",
       "    <tr>\n",
       "      <th>3</th>\n",
       "      <td>Normal gastroscopy to the duodenum.</td>\n",
       "      <td>1</td>\n",
       "    </tr>\n",
       "    <tr>\n",
       "      <th>4</th>\n",
       "      <td>LA Grade C oesophagitis. The oesophageal muco...</td>\n",
       "      <td>1</td>\n",
       "    </tr>\n",
       "  </tbody>\n",
       "</table>\n",
       "</div>"
      ],
      "text/plain": [
       "                                            findings  label\n",
       "0   There is a stricture in the antrum which is r...      1\n",
       "1   There is a polyp in the second part of the du...      1\n",
       "2                Normal gastroscopy to the duodenum.      1\n",
       "3                Normal gastroscopy to the duodenum.      1\n",
       "4   LA Grade C oesophagitis. The oesophageal muco...      1"
      ]
     },
     "execution_count": 104,
     "metadata": {},
     "output_type": "execute_result"
    }
   ],
   "source": [
    "fake_real.reset_index(drop=True, inplace=True)\n",
    "fake_real.head()"
   ]
  },
  {
   "cell_type": "code",
   "execution_count": 105,
   "id": "ca55595b",
   "metadata": {
    "ExecuteTime": {
     "end_time": "2023-03-12T23:38:22.707714Z",
     "start_time": "2023-03-12T23:38:22.694948Z"
    }
   },
   "outputs": [
    {
     "data": {
      "text/html": [
       "<div>\n",
       "<style scoped>\n",
       "    .dataframe tbody tr th:only-of-type {\n",
       "        vertical-align: middle;\n",
       "    }\n",
       "\n",
       "    .dataframe tbody tr th {\n",
       "        vertical-align: top;\n",
       "    }\n",
       "\n",
       "    .dataframe thead th {\n",
       "        text-align: right;\n",
       "    }\n",
       "</style>\n",
       "<table border=\"1\" class=\"dataframe\">\n",
       "  <thead>\n",
       "    <tr style=\"text-align: right;\">\n",
       "      <th></th>\n",
       "      <th>findings</th>\n",
       "      <th>label</th>\n",
       "    </tr>\n",
       "  </thead>\n",
       "  <tbody>\n",
       "    <tr>\n",
       "      <th>197</th>\n",
       "      <td>Normal gastroscopy to the duodenum.</td>\n",
       "      <td>0</td>\n",
       "    </tr>\n",
       "    <tr>\n",
       "      <th>198</th>\n",
       "      <td>list(\"The stricture will need to be dilatated ...</td>\n",
       "      <td>0</td>\n",
       "    </tr>\n",
       "    <tr>\n",
       "      <th>199</th>\n",
       "      <td>There is a polyp in the antrum which is stalke...</td>\n",
       "      <td>0</td>\n",
       "    </tr>\n",
       "  </tbody>\n",
       "</table>\n",
       "</div>"
      ],
      "text/plain": [
       "                                              findings  label\n",
       "197               Normal gastroscopy to the duodenum.       0\n",
       "198  list(\"The stricture will need to be dilatated ...      0\n",
       "199  There is a polyp in the antrum which is stalke...      0"
      ]
     },
     "execution_count": 105,
     "metadata": {},
     "output_type": "execute_result"
    }
   ],
   "source": [
    "fake_real.tail(3)"
   ]
  },
  {
   "cell_type": "markdown",
   "id": "e7aa9a75",
   "metadata": {},
   "source": [
    "---\n",
    "### Creating a dictionary with train, test, validation datasets <a id=\"train_test_validation\"> </a>\n",
    "---"
   ]
  },
  {
   "cell_type": "code",
   "execution_count": 106,
   "id": "e3b6b50d",
   "metadata": {
    "ExecuteTime": {
     "end_time": "2023-03-12T23:38:25.052242Z",
     "start_time": "2023-03-12T23:38:25.027272Z"
    }
   },
   "outputs": [],
   "source": [
    "Dict_datasets = train_test_validation(fake_real)"
   ]
  },
  {
   "cell_type": "code",
   "execution_count": 107,
   "id": "cb80a340",
   "metadata": {
    "ExecuteTime": {
     "end_time": "2023-03-12T23:38:26.968379Z",
     "start_time": "2023-03-12T23:38:26.958211Z"
    }
   },
   "outputs": [
    {
     "data": {
      "text/plain": [
       "DatasetDict({\n",
       "    train: Dataset({\n",
       "        features: ['findings', 'label'],\n",
       "        num_rows: 98\n",
       "    })\n",
       "    test: Dataset({\n",
       "        features: ['findings', 'label'],\n",
       "        num_rows: 60\n",
       "    })\n",
       "    validation: Dataset({\n",
       "        features: ['findings', 'label'],\n",
       "        num_rows: 42\n",
       "    })\n",
       "})"
      ]
     },
     "execution_count": 107,
     "metadata": {},
     "output_type": "execute_result"
    }
   ],
   "source": [
    "Dict_datasets"
   ]
  },
  {
   "cell_type": "markdown",
   "id": "36208475",
   "metadata": {},
   "source": [
    "---\n",
    "### Load tokenizer and model <a id=\"tokenizer_model\"> </a>\n",
    "---\n",
    "\n",
    "- BioBERT is a pre-trained language model that is designed for biomedical natural language processing (NLP) tasks. It is based on the Google's BERT (Bidirectional Encoder Representations from Transformers) architecture.\n",
    "\n",
    "- BioBERT is pre-trained on a large corpus of biomedical text data, which includes abstracts and full-text articles from PubMed Central and other biomedical databases. \n",
    "\n",
    "---"
   ]
  },
  {
   "cell_type": "code",
   "execution_count": 108,
   "id": "9e22cbbb",
   "metadata": {
    "ExecuteTime": {
     "end_time": "2023-03-12T23:38:29.603548Z",
     "start_time": "2023-03-12T23:38:28.966386Z"
    }
   },
   "outputs": [],
   "source": [
    "tokenizer = AutoTokenizer.from_pretrained(\"dmis-lab/biobert-v1.1\")"
   ]
  },
  {
   "cell_type": "code",
   "execution_count": 117,
   "id": "99541fe2",
   "metadata": {
    "ExecuteTime": {
     "end_time": "2023-03-12T23:46:57.507046Z",
     "start_time": "2023-03-12T23:46:55.846265Z"
    }
   },
   "outputs": [],
   "source": [
    "model = AutoModel.from_pretrained(\"dmis-lab/biobert-v1.1\", num_labels=2)"
   ]
  },
  {
   "cell_type": "markdown",
   "id": "b6b99c4f",
   "metadata": {},
   "source": [
    "---\n",
    "### Tokenize the datasets <a id=\"tokenize\"> </a>\n",
    "---"
   ]
  },
  {
   "cell_type": "code",
   "execution_count": 118,
   "id": "534b946d",
   "metadata": {
    "ExecuteTime": {
     "end_time": "2023-03-12T23:46:59.758611Z",
     "start_time": "2023-03-12T23:46:59.534978Z"
    }
   },
   "outputs": [
    {
     "data": {
      "application/vnd.jupyter.widget-view+json": {
       "model_id": "",
       "version_major": 2,
       "version_minor": 0
      },
      "text/plain": [
       "Map:   0%|          | 0/98 [00:00<?, ? examples/s]"
      ]
     },
     "metadata": {},
     "output_type": "display_data"
    },
    {
     "data": {
      "application/vnd.jupyter.widget-view+json": {
       "model_id": "",
       "version_major": 2,
       "version_minor": 0
      },
      "text/plain": [
       "Map:   0%|          | 0/60 [00:00<?, ? examples/s]"
      ]
     },
     "metadata": {},
     "output_type": "display_data"
    },
    {
     "data": {
      "application/vnd.jupyter.widget-view+json": {
       "model_id": "",
       "version_major": 2,
       "version_minor": 0
      },
      "text/plain": [
       "Map:   0%|          | 0/42 [00:00<?, ? examples/s]"
      ]
     },
     "metadata": {},
     "output_type": "display_data"
    }
   ],
   "source": [
    "#--------------------------------------------------------------------\n",
    "# define function to tokenize the datasets\n",
    "#--------------------------------------------------------------------\n",
    "def tokenize(data):\n",
    "    return tokenizer(data[\"findings\"], padding=True, truncation=True,max_length=100) \n",
    "#--------------------------------------------------------------------\n",
    "# tokenize datasets\n",
    "#--------------------------------------------------------------------\n",
    "Dict_datasets_encoded = Dict_datasets.map(tokenize, batched=True, batch_size=None)"
   ]
  },
  {
   "cell_type": "markdown",
   "id": "52711cda",
   "metadata": {},
   "source": [
    "---\n",
    "### Formating to torch <a id=\"Formating\"> </a>\n",
    "---"
   ]
  },
  {
   "cell_type": "code",
   "execution_count": 119,
   "id": "cc9603df",
   "metadata": {
    "ExecuteTime": {
     "end_time": "2023-03-12T23:47:01.803215Z",
     "start_time": "2023-03-12T23:47:01.793565Z"
    }
   },
   "outputs": [],
   "source": [
    "Dict_datasets_encoded.set_format(\"torch\", columns=[\"input_ids\", \"attention_mask\", \"label\"])"
   ]
  },
  {
   "cell_type": "markdown",
   "id": "8a5e34ae",
   "metadata": {},
   "source": [
    "---\n",
    "### Extracting hidden states <a id=\"Extracting_hidden_states\"> </a>\n",
    "---\n",
    "\n",
    "How will extract the hidden states associated with each finding."
   ]
  },
  {
   "cell_type": "code",
   "execution_count": 120,
   "id": "9bbc89c1",
   "metadata": {
    "ExecuteTime": {
     "end_time": "2023-03-12T23:47:46.585218Z",
     "start_time": "2023-03-12T23:47:03.808381Z"
    }
   },
   "outputs": [
    {
     "data": {
      "application/vnd.jupyter.widget-view+json": {
       "model_id": "",
       "version_major": 2,
       "version_minor": 0
      },
      "text/plain": [
       "Map:   0%|          | 0/98 [00:00<?, ? examples/s]"
      ]
     },
     "metadata": {},
     "output_type": "display_data"
    },
    {
     "data": {
      "application/vnd.jupyter.widget-view+json": {
       "model_id": "",
       "version_major": 2,
       "version_minor": 0
      },
      "text/plain": [
       "Map:   0%|          | 0/60 [00:00<?, ? examples/s]"
      ]
     },
     "metadata": {},
     "output_type": "display_data"
    },
    {
     "data": {
      "application/vnd.jupyter.widget-view+json": {
       "model_id": "",
       "version_major": 2,
       "version_minor": 0
      },
      "text/plain": [
       "Map:   0%|          | 0/42 [00:00<?, ? examples/s]"
      ]
     },
     "metadata": {},
     "output_type": "display_data"
    }
   ],
   "source": [
    "device = torch.device(\"cuda\" if torch.cuda.is_available() else \"cpu\")\n",
    "\n",
    "def extract_hidden_states(batch):\n",
    "    # Place model inputs on the GPU\n",
    "    inputs = {k:v.to(device) for k,v in batch.items() \n",
    "              if k in tokenizer.model_input_names}\n",
    "    # Extract last hidden states\n",
    "    with torch.no_grad():\n",
    "        last_hidden_state = model(**inputs).last_hidden_state\n",
    "    # Return vector for [CLS] token\n",
    "    return {\"hidden_state\": last_hidden_state[:,0].cpu().numpy()}\n",
    "dataset_hidden = Dict_datasets_encoded.map(extract_hidden_states, batched=True)"
   ]
  },
  {
   "cell_type": "markdown",
   "id": "e27c8b47",
   "metadata": {},
   "source": [
    "---\n",
    "### Creating a feature matrix <a id=\"feature_matrix\"> </a>\n",
    "---\n",
    "\n",
    "We will use the hidden states as input features and the labels as targets."
   ]
  },
  {
   "cell_type": "code",
   "execution_count": 121,
   "id": "19fa68ac",
   "metadata": {
    "ExecuteTime": {
     "end_time": "2023-03-12T23:47:48.793460Z",
     "start_time": "2023-03-12T23:47:48.766131Z"
    }
   },
   "outputs": [
    {
     "data": {
      "text/plain": [
       "((98, 768), (42, 768), (60, 768))"
      ]
     },
     "execution_count": 121,
     "metadata": {},
     "output_type": "execute_result"
    }
   ],
   "source": [
    "X_train = np.array(dataset_hidden[\"train\"][\"hidden_state\"])\n",
    "X_valid = np.array(dataset_hidden[\"validation\"][\"hidden_state\"])\n",
    "X_test = np.array(dataset_hidden[\"test\"][\"hidden_state\"])\n",
    "y_train = np.array(dataset_hidden[\"train\"][\"label\"])\n",
    "y_valid = np.array(dataset_hidden[\"validation\"][\"label\"])\n",
    "y_test = np.array(dataset_hidden[\"test\"][\"label\"])\n",
    "X_train.shape, X_valid.shape, X_test.shape"
   ]
  },
  {
   "cell_type": "markdown",
   "id": "d9a14c03",
   "metadata": {},
   "source": [
    "### Store and save the feature matrix list (optional)\n",
    "\n",
    "The feature_matrix_list that can be used in a classifiar is stored a saved. "
   ]
  },
  {
   "cell_type": "code",
   "execution_count": 122,
   "id": "dd779d1b",
   "metadata": {
    "ExecuteTime": {
     "end_time": "2023-03-12T23:47:50.868135Z",
     "start_time": "2023-03-12T23:47:50.861652Z"
    }
   },
   "outputs": [],
   "source": [
    "#feature_matrix_list = [X_train,X_valid,X_test,y_train,y_valid,y_test]"
   ]
  },
  {
   "cell_type": "code",
   "execution_count": 123,
   "id": "eef10a90",
   "metadata": {
    "ExecuteTime": {
     "end_time": "2023-03-12T23:47:52.914188Z",
     "start_time": "2023-03-12T23:47:52.908281Z"
    }
   },
   "outputs": [],
   "source": [
    "#np.save('feature_matrix_list.npy', np.array(feature_matrix_list, dtype=object), allow_pickle=True)"
   ]
  },
  {
   "cell_type": "markdown",
   "id": "a2918f94",
   "metadata": {},
   "source": [
    "### Load the feature list (optional)"
   ]
  },
  {
   "cell_type": "code",
   "execution_count": 124,
   "id": "1a8409f3",
   "metadata": {
    "ExecuteTime": {
     "end_time": "2023-03-12T23:47:55.027048Z",
     "start_time": "2023-03-12T23:47:55.020883Z"
    }
   },
   "outputs": [],
   "source": [
    "#feature_matrix_list_loaded = np.load('feature_matrix_list.npy', allow_pickle=True)\n",
    "#[X_train,X_valid,X_test,y_train,y_valid,y_test]=feature_matrix_list_loaded"
   ]
  },
  {
   "cell_type": "markdown",
   "id": "d89fe66d",
   "metadata": {},
   "source": [
    "---\n",
    "### Visualizing the training set <a id=\"Visualizing_training\"> </a>\n",
    "---"
   ]
  },
  {
   "cell_type": "code",
   "execution_count": 125,
   "id": "6b35e069",
   "metadata": {
    "ExecuteTime": {
     "end_time": "2023-03-12T23:48:00.284761Z",
     "start_time": "2023-03-12T23:47:56.961674Z"
    }
   },
   "outputs": [
    {
     "data": {
      "text/html": [
       "<div>\n",
       "<style scoped>\n",
       "    .dataframe tbody tr th:only-of-type {\n",
       "        vertical-align: middle;\n",
       "    }\n",
       "\n",
       "    .dataframe tbody tr th {\n",
       "        vertical-align: top;\n",
       "    }\n",
       "\n",
       "    .dataframe thead th {\n",
       "        text-align: right;\n",
       "    }\n",
       "</style>\n",
       "<table border=\"1\" class=\"dataframe\">\n",
       "  <thead>\n",
       "    <tr style=\"text-align: right;\">\n",
       "      <th></th>\n",
       "      <th>X</th>\n",
       "      <th>Y</th>\n",
       "      <th>label</th>\n",
       "    </tr>\n",
       "  </thead>\n",
       "  <tbody>\n",
       "    <tr>\n",
       "      <th>0</th>\n",
       "      <td>-10.076505</td>\n",
       "      <td>8.029497</td>\n",
       "      <td>0</td>\n",
       "    </tr>\n",
       "    <tr>\n",
       "      <th>1</th>\n",
       "      <td>-10.319360</td>\n",
       "      <td>9.499495</td>\n",
       "      <td>0</td>\n",
       "    </tr>\n",
       "    <tr>\n",
       "      <th>2</th>\n",
       "      <td>-10.143127</td>\n",
       "      <td>5.496702</td>\n",
       "      <td>0</td>\n",
       "    </tr>\n",
       "    <tr>\n",
       "      <th>3</th>\n",
       "      <td>-10.353342</td>\n",
       "      <td>7.754249</td>\n",
       "      <td>1</td>\n",
       "    </tr>\n",
       "    <tr>\n",
       "      <th>4</th>\n",
       "      <td>12.921492</td>\n",
       "      <td>11.237549</td>\n",
       "      <td>1</td>\n",
       "    </tr>\n",
       "  </tbody>\n",
       "</table>\n",
       "</div>"
      ],
      "text/plain": [
       "           X          Y  label\n",
       "0 -10.076505   8.029497      0\n",
       "1 -10.319360   9.499495      0\n",
       "2 -10.143127   5.496702      0\n",
       "3 -10.353342   7.754249      1\n",
       "4  12.921492  11.237549      1"
      ]
     },
     "execution_count": 125,
     "metadata": {},
     "output_type": "execute_result"
    }
   ],
   "source": [
    "# Scale features to [0,1] range\n",
    "X_scaled = MinMaxScaler().fit_transform(X_train)\n",
    "# Initialize and fit UMAP\n",
    "mapper = UMAP(n_components=2, metric=\"cosine\").fit(X_scaled)\n",
    "# Create a DataFrame of 2D embeddings\n",
    "df_emb = pd.DataFrame(mapper.embedding_, columns=[\"X\", \"Y\"])\n",
    "df_emb[\"label\"] = y_train\n",
    "df_emb.head()"
   ]
  },
  {
   "cell_type": "code",
   "execution_count": 126,
   "id": "6d47165a",
   "metadata": {
    "ExecuteTime": {
     "end_time": "2023-03-12T23:48:02.737931Z",
     "start_time": "2023-03-12T23:48:02.528389Z"
    }
   },
   "outputs": [
    {
     "data": {
      "image/png": "[encoded data removed]",
      "text/plain": [
       "<Figure size 500x300 with 2 Axes>"
      ]
     },
     "metadata": {},
     "output_type": "display_data"
    }
   ],
   "source": [
    "fig, axes = plt.subplots(1, 2, figsize=(5,3))\n",
    "axes = axes.flatten()\n",
    "cmaps = [\"Blues\", \"Oranges\"]\n",
    "labels = ['Generated findings','Original findings']\n",
    "\n",
    "for i, (label, cmap) in enumerate(zip(labels, cmaps)):\n",
    "    df_emb_sub = df_emb.query(f\"label == {i}\")\n",
    "    axes[i].hexbin(df_emb_sub[\"X\"], df_emb_sub[\"Y\"], cmap=cmap,\n",
    "                   gridsize=20, linewidths=(0,))\n",
    "    axes[i].set_title(label)\n",
    "    axes[i].set_xticks([]), axes[i].set_yticks([])\n",
    "\n",
    "plt.tight_layout()\n",
    "plt.show()"
   ]
  },
  {
   "cell_type": "markdown",
   "id": "334e96b8",
   "metadata": {},
   "source": [
    "---\n",
    "### Training a classifier <a id=\"Training_classifier\"> </a>\n",
    "---"
   ]
  },
  {
   "cell_type": "code",
   "execution_count": 127,
   "id": "2613eded",
   "metadata": {
    "ExecuteTime": {
     "end_time": "2023-03-12T23:48:04.958474Z",
     "start_time": "2023-03-12T23:48:04.867668Z"
    }
   },
   "outputs": [
    {
     "data": {
      "text/html": [
       "<style>#sk-container-id-4 {color: black;background-color: white;}#sk-container-id-4 pre{padding: 0;}#sk-container-id-4 div.sk-toggleable {background-color: white;}#sk-container-id-4 label.sk-toggleable__label {cursor: pointer;display: block;width: 100%;margin-bottom: 0;padding: 0.3em;box-sizing: border-box;text-align: center;}#sk-container-id-4 label.sk-toggleable__label-arrow:before {content: \"▸\";float: left;margin-right: 0.25em;color: #696969;}#sk-container-id-4 label.sk-toggleable__label-arrow:hover:before {color: black;}#sk-container-id-4 div.sk-estimator:hover label.sk-toggleable__label-arrow:before {color: black;}#sk-container-id-4 div.sk-toggleable__content {max-height: 0;max-width: 0;overflow: hidden;text-align: left;background-color: #f0f8ff;}#sk-container-id-4 div.sk-toggleable__content pre {margin: 0.2em;color: black;border-radius: 0.25em;background-color: #f0f8ff;}#sk-container-id-4 input.sk-toggleable__control:checked~div.sk-toggleable__content {max-height: 200px;max-width: 100%;overflow: auto;}#sk-container-id-4 input.sk-toggleable__control:checked~label.sk-toggleable__label-arrow:before {content: \"▾\";}#sk-container-id-4 div.sk-estimator input.sk-toggleable__control:checked~label.sk-toggleable__label {background-color: #d4ebff;}#sk-container-id-4 div.sk-label input.sk-toggleable__control:checked~label.sk-toggleable__label {background-color: #d4ebff;}#sk-container-id-4 input.sk-hidden--visually {border: 0;clip: rect(1px 1px 1px 1px);clip: rect(1px, 1px, 1px, 1px);height: 1px;margin: -1px;overflow: hidden;padding: 0;position: absolute;width: 1px;}#sk-container-id-4 div.sk-estimator {font-family: monospace;background-color: #f0f8ff;border: 1px dotted black;border-radius: 0.25em;box-sizing: border-box;margin-bottom: 0.5em;}#sk-container-id-4 div.sk-estimator:hover {background-color: #d4ebff;}#sk-container-id-4 div.sk-parallel-item::after {content: \"\";width: 100%;border-bottom: 1px solid gray;flex-grow: 1;}#sk-container-id-4 div.sk-label:hover label.sk-toggleable__label {background-color: #d4ebff;}#sk-container-id-4 div.sk-serial::before {content: \"\";position: absolute;border-left: 1px solid gray;box-sizing: border-box;top: 0;bottom: 0;left: 50%;z-index: 0;}#sk-container-id-4 div.sk-serial {display: flex;flex-direction: column;align-items: center;background-color: white;padding-right: 0.2em;padding-left: 0.2em;position: relative;}#sk-container-id-4 div.sk-item {position: relative;z-index: 1;}#sk-container-id-4 div.sk-parallel {display: flex;align-items: stretch;justify-content: center;background-color: white;position: relative;}#sk-container-id-4 div.sk-item::before, #sk-container-id-4 div.sk-parallel-item::before {content: \"\";position: absolute;border-left: 1px solid gray;box-sizing: border-box;top: 0;bottom: 0;left: 50%;z-index: -1;}#sk-container-id-4 div.sk-parallel-item {display: flex;flex-direction: column;z-index: 1;position: relative;background-color: white;}#sk-container-id-4 div.sk-parallel-item:first-child::after {align-self: flex-end;width: 50%;}#sk-container-id-4 div.sk-parallel-item:last-child::after {align-self: flex-start;width: 50%;}#sk-container-id-4 div.sk-parallel-item:only-child::after {width: 0;}#sk-container-id-4 div.sk-dashed-wrapped {border: 1px dashed gray;margin: 0 0.4em 0.5em 0.4em;box-sizing: border-box;padding-bottom: 0.4em;background-color: white;}#sk-container-id-4 div.sk-label label {font-family: monospace;font-weight: bold;display: inline-block;line-height: 1.2em;}#sk-container-id-4 div.sk-label-container {text-align: center;}#sk-container-id-4 div.sk-container {/* jupyter's `normalize.less` sets `[hidden] { display: none; }` but bootstrap.min.css set `[hidden] { display: none !important; }` so we also need the `!important` here to be able to override the default hidden behavior on the sphinx rendered scikit-learn.org. See: https://github.com/scikit-learn/scikit-learn/issues/21755 */display: inline-block !important;position: relative;}#sk-container-id-4 div.sk-text-repr-fallback {display: none;}</style><div id=\"sk-container-id-4\" class=\"sk-top-container\"><div class=\"sk-text-repr-fallback\"><pre>LogisticRegression()</pre><b>In a Jupyter environment, please rerun this cell to show the HTML representation or trust the notebook. <br />On GitHub, the HTML representation is unable to render, please try loading this page with nbviewer.org.</b></div><div class=\"sk-container\" hidden><div class=\"sk-item\"><div class=\"sk-estimator sk-toggleable\"><input class=\"sk-toggleable__control sk-hidden--visually\" id=\"sk-estimator-id-4\" type=\"checkbox\" checked><label for=\"sk-estimator-id-4\" class=\"sk-toggleable__label sk-toggleable__label-arrow\">LogisticRegression</label><div class=\"sk-toggleable__content\"><pre>LogisticRegression()</pre></div></div></div></div></div>"
      ],
      "text/plain": [
       "LogisticRegression()"
      ]
     },
     "execution_count": 127,
     "metadata": {},
     "output_type": "execute_result"
    }
   ],
   "source": [
    "lr_clf = LogisticRegression()\n",
    "lr_clf.fit(X_train, y_train)"
   ]
  },
  {
   "cell_type": "markdown",
   "id": "f978c4e2",
   "metadata": {},
   "source": [
    "### Evaluation of the discriminator"
   ]
  },
  {
   "cell_type": "code",
   "execution_count": 128,
   "id": "33bfcff4",
   "metadata": {
    "ExecuteTime": {
     "end_time": "2023-03-12T23:48:07.006736Z",
     "start_time": "2023-03-12T23:48:06.990941Z"
    }
   },
   "outputs": [
    {
     "data": {
      "text/plain": [
       "0.5"
      ]
     },
     "execution_count": 128,
     "metadata": {},
     "output_type": "execute_result"
    }
   ],
   "source": [
    "from sklearn.dummy import DummyClassifier\n",
    "\n",
    "dummy_clf = DummyClassifier(strategy=\"most_frequent\")\n",
    "dummy_clf.fit(X_train, y_train)\n",
    "y_preds = dummy_clf.predict(X_test)\n",
    "accuracy =accuracy_score(y_test, y_preds)\n",
    "accuracy"
   ]
  },
  {
   "cell_type": "code",
   "execution_count": 129,
   "id": "64ee165d",
   "metadata": {
    "ExecuteTime": {
     "end_time": "2023-03-12T23:48:09.481662Z",
     "start_time": "2023-03-12T23:48:09.261861Z"
    }
   },
   "outputs": [
    {
     "data": {
      "image/png": "[encoded data removed]",
      "text/plain": [
       "<Figure size 300x300 with 1 Axes>"
      ]
     },
     "metadata": {},
     "output_type": "display_data"
    }
   ],
   "source": [
    "y_preds = lr_clf.predict(X_test)\n",
    "\n",
    "def plot_confusion_matrix(y_preds, y_true, labels):\n",
    "    cm = confusion_matrix(y_true, y_preds, normalize=\"true\")\n",
    "    fig, ax = plt.subplots(figsize=(3, 3))\n",
    "    disp = ConfusionMatrixDisplay(confusion_matrix=cm, display_labels=labels)\n",
    "    disp.plot(cmap=\"Blues\", values_format=\".2f\", ax=ax, colorbar=False)\n",
    "    plt.title(\"Normalized confusion matrix\")\n",
    "    plt.show()\n",
    "\n",
    "plot_confusion_matrix(y_test,y_preds, [1,0])"
   ]
  },
  {
   "cell_type": "code",
   "execution_count": 130,
   "id": "a7d26bab",
   "metadata": {
    "ExecuteTime": {
     "end_time": "2023-03-12T23:48:11.668601Z",
     "start_time": "2023-03-12T23:48:11.639957Z"
    }
   },
   "outputs": [
    {
     "name": "stdout",
     "output_type": "stream",
     "text": [
      "accuracy: 0.6\n",
      "precision: 0.6153846153846154\n",
      "recall: 0.5333333333333333\n",
      "f1: 0.5714285714285715\n"
     ]
    }
   ],
   "source": [
    "from sklearn.metrics import accuracy_score\n",
    "from sklearn.metrics import precision_score\n",
    "from sklearn.metrics import recall_score\n",
    "from sklearn.metrics import f1_score\n",
    "from sklearn.metrics import roc_auc_score\n",
    "#------------------------------------------------\n",
    "accuracy =accuracy_score(y_test, y_preds)\n",
    "precision = precision_score(y_test, y_preds)\n",
    "recall = recall_score(y_test, y_preds)\n",
    "f1 = f1_score(y_test, y_preds)\n",
    "#------------------------------------------------\n",
    "print('accuracy:',accuracy)\n",
    "print('precision:',precision)\n",
    "print('recall:',recall)\n",
    "print('f1:',f1)"
   ]
  },
  {
   "cell_type": "markdown",
   "id": "0bb3d0b7",
   "metadata": {},
   "source": [
    "### Classification of a single text"
   ]
  },
  {
   "cell_type": "code",
   "execution_count": 131,
   "id": "2c0d7f7a",
   "metadata": {
    "ExecuteTime": {
     "end_time": "2023-03-12T23:48:13.828201Z",
     "start_time": "2023-03-12T23:48:13.820362Z"
    }
   },
   "outputs": [],
   "source": [
    "def single_text(lr_clf,custom_sentence,custom_label):\n",
    "    \"\"\"\n",
    "    Input:\n",
    "    \"\"\"\n",
    "    #-----------------------------------------------------\n",
    "    inputs = tokenizer(custom_sentence, return_tensors=\"pt\")\n",
    "    #-----------------------------------------------------\n",
    "    inputs = {k:v.to(device) for k,v in inputs.items()}\n",
    "    with torch.no_grad():\n",
    "            outputs = model(**inputs)\n",
    "    #outputs.last_hidden_state.shape\n",
    "    #-----------------------------------------------------\n",
    "    preds_prob = lr_clf.predict_proba(np.array(outputs.last_hidden_state[:,0].cpu().numpy()))\n",
    "    preds = lr_clf.predict(np.array(outputs.last_hidden_state[:,0].cpu().numpy()))\n",
    "    #-----------------------------------------------------\n",
    "    #preds_df = pd.DataFrame(preds[0])\n",
    "    #-----------------------------------------------------\n",
    "    plt.figure(figsize=(6,2))\n",
    "    plt.bar(labels, 100 * preds_prob[0], color='red')\n",
    "    plt.title(f'\"{custom_sentence[:110]}...\"')\n",
    "    plt.ylabel(\"Class probability (%)\")\n",
    "    plt.show()\n"
   ]
  },
  {
   "cell_type": "markdown",
   "id": "45732cbc",
   "metadata": {},
   "source": [
    "#### Example of false positive"
   ]
  },
  {
   "cell_type": "code",
   "execution_count": 132,
   "id": "540a1ff8",
   "metadata": {
    "ExecuteTime": {
     "end_time": "2023-03-12T23:48:16.595423Z",
     "start_time": "2023-03-12T23:48:15.939965Z"
    }
   },
   "outputs": [
    {
     "name": "stdout",
     "output_type": "stream",
     "text": [
      "#----------------------------------------------------------------------------------------\n",
      "# Text\n",
      "#----------------------------------------------------------------------------------------\n",
      "There is a polyp in the body which is sessile with an abnormal pit pattern. A gastric polyp is seen in the pylorus, with a tubular and elongated shape and a smooth surface.The polyp was removed with minimal thermal injury to surrounding tissue using a cold snare technique..  FOLLOW UP: The patient should be advised to seek medical attention immediately if they experience severe abdominal pain, vomiting, or bloody stools. RECOMMENDATION: The patient should be advised to avoid NSAIDs and aspirin, which can increase the risk of developing more polyps.\n",
      "#----------------------------------------------------------------------------------------\n",
      "# Label\n",
      "#----------------------------------------------------------------------------------------\n",
      "Real medical report\n",
      "#----------------------------------------------------------------------------------------\n"
     ]
    },
    {
     "data": {
      "image/png": "[encoded data removed]",
      "text/plain": [
       "<Figure size 600x200 with 1 Axes>"
      ]
     },
     "metadata": {},
     "output_type": "display_data"
    }
   ],
   "source": [
    "item=3\n",
    "print('#----------------------------------------------------------------------------------------')\n",
    "print('# Text')\n",
    "print('#----------------------------------------------------------------------------------------')\n",
    "custom_label = real['label'].iloc[item]\n",
    "custom_sentence=real['findings'].iloc[item]\n",
    "labels = ['Real medical report','Fake medical report']\n",
    "print(custom_sentence)\n",
    "print('#----------------------------------------------------------------------------------------')\n",
    "print('# Label')\n",
    "print('#----------------------------------------------------------------------------------------')\n",
    "print(labels[custom_label])\n",
    "print('#----------------------------------------------------------------------------------------')\n",
    "single_text(lr_clf,custom_sentence,custom_label)"
   ]
  },
  {
   "cell_type": "markdown",
   "id": "687ddd3b",
   "metadata": {},
   "source": [
    "#### Example of false negative"
   ]
  },
  {
   "cell_type": "code",
   "execution_count": 133,
   "id": "e80089de",
   "metadata": {
    "ExecuteTime": {
     "end_time": "2023-03-12T23:48:19.535811Z",
     "start_time": "2023-03-12T23:48:18.886307Z"
    }
   },
   "outputs": [
    {
     "name": "stdout",
     "output_type": "stream",
     "text": [
      "#----------------------------------------------------------------------------------------\n",
      "# Text\n",
      "#----------------------------------------------------------------------------------------\n",
      " Normal gastroscopy to the duodenum.\n",
      "#----------------------------------------------------------------------------------------\n",
      "# Label\n",
      "#----------------------------------------------------------------------------------------\n",
      "Fake medical report\n",
      "#----------------------------------------------------------------------------------------\n"
     ]
    },
    {
     "data": {
      "image/png": "[encoded data removed]",
      "text/plain": [
       "<Figure size 600x200 with 1 Axes>"
      ]
     },
     "metadata": {},
     "output_type": "display_data"
    }
   ],
   "source": [
    "item=70\n",
    "print('#----------------------------------------------------------------------------------------')\n",
    "print('# Text')\n",
    "print('#----------------------------------------------------------------------------------------')\n",
    "custom_label = fake['label'].iloc[item]\n",
    "custom_sentence=fake['findings'].iloc[item]\n",
    "labels = ['Real medical report','Fake medical report']\n",
    "print(custom_sentence)\n",
    "print('#----------------------------------------------------------------------------------------')\n",
    "print('# Label')\n",
    "print('#----------------------------------------------------------------------------------------')\n",
    "print(labels[custom_label])\n",
    "print('#----------------------------------------------------------------------------------------')\n",
    "single_text(lr_clf,custom_sentence,custom_label)"
   ]
  },
  {
   "cell_type": "markdown",
   "id": "b6fe3847",
   "metadata": {},
   "source": [
    "### Error analysis"
   ]
  },
  {
   "cell_type": "code",
   "execution_count": 168,
   "id": "07ae2ca0",
   "metadata": {
    "ExecuteTime": {
     "end_time": "2023-03-13T00:04:59.249163Z",
     "start_time": "2023-03-13T00:04:57.293664Z"
    }
   },
   "outputs": [
    {
     "name": "stderr",
     "output_type": "stream",
     "text": [
      "Some weights of BertForSequenceClassification were not initialized from the model checkpoint at dmis-lab/biobert-v1.1 and are newly initialized: ['classifier.bias', 'classifier.weight']\n",
      "You should probably TRAIN this model on a down-stream task to be able to use it for predictions and inference.\n"
     ]
    }
   ],
   "source": [
    "from torch.nn.functional import cross_entropy\n",
    "model = AutoModelForSequenceClassification.from_pretrained(\"dmis-lab/biobert-v1.1\", num_labels=2)\n",
    "def forward_pass_with_label(batch):\n",
    "    # Place all input tensors on the same device as the model\n",
    "    inputs = {k:v.to(device) for k,v in batch.items() \n",
    "              if k in tokenizer.model_input_names}\n",
    "\n",
    "    with torch.no_grad():\n",
    "        output = model(**inputs)\n",
    "        pred_label = torch.argmax(output.logits, axis=-1)\n",
    "        #pred_label = lr_clf.predict(np.array(output.last_hidden_state[:,0].cpu().numpy()))\n",
    "        loss = cross_entropy(output.logits, batch[\"label\"].to(device), \n",
    "                             reduction=\"none\")\n",
    "\n",
    "    # Place outputs on CPU for compatibility with other dataset columns   \n",
    "    return {\"loss\": loss.cpu().numpy(), \n",
    "            \"predicted_label\": pred_label.cpu().numpy()}\n",
    "\n",
    "def label_int2str(row):\n",
    "    return Dict_datasets[\"train\"].features[\"label\"].int2str(row)"
   ]
  },
  {
   "cell_type": "code",
   "execution_count": 172,
   "id": "909bba66",
   "metadata": {
    "ExecuteTime": {
     "end_time": "2023-03-13T00:10:53.818653Z",
     "start_time": "2023-03-13T00:10:42.074141Z"
    }
   },
   "outputs": [
    {
     "data": {
      "application/vnd.jupyter.widget-view+json": {
       "model_id": "",
       "version_major": 2,
       "version_minor": 0
      },
      "text/plain": [
       "Map:   0%|          | 0/60 [00:00<?, ? examples/s]"
      ]
     },
     "metadata": {},
     "output_type": "display_data"
    }
   ],
   "source": [
    "#hide_output\n",
    "# Convert our dataset back to PyTorch tensors\n",
    "Dict_datasets_encoded.set_format(\"torch\", \n",
    "                            columns=[\"input_ids\", \"attention_mask\", \"label\"])\n",
    "# Compute loss values\n",
    "Dict_datasets_encoded[\"test\"] = Dict_datasets_encoded[\"test\"].map(\n",
    "    forward_pass_with_label, batched=True)"
   ]
  },
  {
   "cell_type": "code",
   "execution_count": 182,
   "id": "1fcb2267",
   "metadata": {
    "ExecuteTime": {
     "end_time": "2023-03-13T00:14:04.441529Z",
     "start_time": "2023-03-13T00:14:04.425784Z"
    }
   },
   "outputs": [
    {
     "data": {
      "text/plain": [
       "\"Barrett's is present. No loss of aceto-whitening was seen. The pit pattern is normal. \""
      ]
     },
     "execution_count": 182,
     "metadata": {},
     "output_type": "execute_result"
    }
   ],
   "source": [
    "Dict_datasets_encoded[\"test\"]['findings'].iloc[57]"
   ]
  },
  {
   "cell_type": "code",
   "execution_count": 183,
   "id": "649fe588",
   "metadata": {
    "ExecuteTime": {
     "end_time": "2023-03-13T00:14:06.819030Z",
     "start_time": "2023-03-13T00:14:06.784727Z"
    }
   },
   "outputs": [
    {
     "data": {
      "text/html": [
       "<div>\n",
       "<style scoped>\n",
       "    .dataframe tbody tr th:only-of-type {\n",
       "        vertical-align: middle;\n",
       "    }\n",
       "\n",
       "    .dataframe tbody tr th {\n",
       "        vertical-align: top;\n",
       "    }\n",
       "\n",
       "    .dataframe thead th {\n",
       "        text-align: right;\n",
       "    }\n",
       "</style>\n",
       "<table border=\"1\" class=\"dataframe\">\n",
       "  <thead>\n",
       "    <tr style=\"text-align: right;\">\n",
       "      <th></th>\n",
       "      <th>findings</th>\n",
       "      <th>label</th>\n",
       "      <th>predicted_label</th>\n",
       "      <th>loss</th>\n",
       "    </tr>\n",
       "  </thead>\n",
       "  <tbody>\n",
       "    <tr>\n",
       "      <th>6</th>\n",
       "      <td>Hiatus Hernia- Large..</td>\n",
       "      <td>1</td>\n",
       "      <td>1</td>\n",
       "      <td>0.360498</td>\n",
       "    </tr>\n",
       "    <tr>\n",
       "      <th>57</th>\n",
       "      <td>Barrett's is present. No loss of aceto-whiteni...</td>\n",
       "      <td>0</td>\n",
       "      <td>0</td>\n",
       "      <td>0.408298</td>\n",
       "    </tr>\n",
       "    <tr>\n",
       "      <th>24</th>\n",
       "      <td>There is an ulcer in the stomach which is sca...</td>\n",
       "      <td>1</td>\n",
       "      <td>1</td>\n",
       "      <td>0.456758</td>\n",
       "    </tr>\n",
       "    <tr>\n",
       "      <th>9</th>\n",
       "      <td>The patient has inflammation in the third part...</td>\n",
       "      <td>0</td>\n",
       "      <td>0</td>\n",
       "      <td>0.476827</td>\n",
       "    </tr>\n",
       "    <tr>\n",
       "      <th>14</th>\n",
       "      <td>There is a nodule in the GOJ which is stalked....</td>\n",
       "      <td>0</td>\n",
       "      <td>0</td>\n",
       "      <td>0.497287</td>\n",
       "    </tr>\n",
       "    <tr>\n",
       "      <th>44</th>\n",
       "      <td>list (\"The stricture will need to be dilatate...</td>\n",
       "      <td>1</td>\n",
       "      <td>1</td>\n",
       "      <td>0.503133</td>\n",
       "    </tr>\n",
       "    <tr>\n",
       "      <th>39</th>\n",
       "      <td>The patient has a 10mm nodule in the D1/D2 ang...</td>\n",
       "      <td>0</td>\n",
       "      <td>0</td>\n",
       "      <td>0.504236</td>\n",
       "    </tr>\n",
       "    <tr>\n",
       "      <th>46</th>\n",
       "      <td>LA Grade  A oesophagitis. There are scattered ...</td>\n",
       "      <td>0</td>\n",
       "      <td>0</td>\n",
       "      <td>0.509163</td>\n",
       "    </tr>\n",
       "    <tr>\n",
       "      <th>16</th>\n",
       "      <td>The patient has inflammation in the body which...</td>\n",
       "      <td>0</td>\n",
       "      <td>0</td>\n",
       "      <td>0.510833</td>\n",
       "    </tr>\n",
       "    <tr>\n",
       "      <th>25</th>\n",
       "      <td>There is a nodule in the body which is sessile...</td>\n",
       "      <td>0</td>\n",
       "      <td>0</td>\n",
       "      <td>0.516822</td>\n",
       "    </tr>\n",
       "  </tbody>\n",
       "</table>\n",
       "</div>"
      ],
      "text/plain": [
       "                                             findings  label  predicted_label  \\\n",
       "6                              Hiatus Hernia- Large..      1                1   \n",
       "57  Barrett's is present. No loss of aceto-whiteni...      0                0   \n",
       "24   There is an ulcer in the stomach which is sca...      1                1   \n",
       "9   The patient has inflammation in the third part...      0                0   \n",
       "14  There is a nodule in the GOJ which is stalked....      0                0   \n",
       "44   list (\"The stricture will need to be dilatate...      1                1   \n",
       "39  The patient has a 10mm nodule in the D1/D2 ang...      0                0   \n",
       "46  LA Grade  A oesophagitis. There are scattered ...      0                0   \n",
       "16  The patient has inflammation in the body which...      0                0   \n",
       "25  There is a nodule in the body which is sessile...      0                0   \n",
       "\n",
       "        loss  \n",
       "6   0.360498  \n",
       "57  0.408298  \n",
       "24  0.456758  \n",
       "9   0.476827  \n",
       "14  0.497287  \n",
       "44  0.503133  \n",
       "39  0.504236  \n",
       "46  0.509163  \n",
       "16  0.510833  \n",
       "25  0.516822  "
      ]
     },
     "execution_count": 183,
     "metadata": {},
     "output_type": "execute_result"
    }
   ],
   "source": [
    "Dict_datasets_encoded.set_format(\"pandas\")\n",
    "cols = [\"findings\", \"label\", \"predicted_label\", \"loss\"]\n",
    "df_test = Dict_datasets_encoded[\"test\"][:][cols]\n",
    "df_test\n",
    "df_test.sort_values(\"loss\", ascending=True).head(10)"
   ]
  }
 ],
 "metadata": {
  "kernelspec": {
   "display_name": "Python 3 (ipykernel)",
   "language": "python",
   "name": "python3"
  },
  "language_info": {
   "codemirror_mode": {
    "name": "ipython",
    "version": 3
   },
   "file_extension": ".py",
   "mimetype": "text/x-python",
   "name": "python",
   "nbconvert_exporter": "python",
   "pygments_lexer": "ipython3",
   "version": "3.10.6"
  },
  "toc": {
   "base_numbering": 1,
   "nav_menu": {},
   "number_sections": true,
   "sideBar": true,
   "skip_h1_title": false,
   "title_cell": "Table of Contents",
   "title_sidebar": "Contents",
   "toc_cell": false,
   "toc_position": {},
   "toc_section_display": true,
   "toc_window_display": false
  },
  "varInspector": {
   "cols": {
    "lenName": 16,
    "lenType": 16,
    "lenVar": 40
   },
   "kernels_config": {
    "python": {
     "delete_cmd_postfix": "",
     "delete_cmd_prefix": "del ",
     "library": "var_list.py",
     "varRefreshCmd": "print(var_dic_list())"
    },
    "r": {
     "delete_cmd_postfix": ") ",
     "delete_cmd_prefix": "rm(",
     "library": "var_list.r",
     "varRefreshCmd": "cat(var_dic_list()) "
    }
   },
   "types_to_exclude": [
    "module",
    "function",
    "builtin_function_or_method",
    "instance",
    "_Feature"
   ],
   "window_display": false
  }
 },
 "nbformat": 4,
 "nbformat_minor": 5
}
